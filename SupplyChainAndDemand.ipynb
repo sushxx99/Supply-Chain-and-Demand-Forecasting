{
  "cells": [
    {
      "cell_type": "markdown",
      "id": "0cfd92db",
      "metadata": {
        "id": "0cfd92db"
      },
      "source": [
        "# Import Libraries"
      ]
    },
    {
      "cell_type": "code",
      "execution_count": 2,
      "id": "98a73ec9",
      "metadata": {
        "id": "98a73ec9"
      },
      "outputs": [],
      "source": [
        "import numpy as np\n",
        "import pandas as pd\n",
        "import seaborn as sns\n",
        "import matplotlib.pyplot as plt\n",
        "\n",
        "color_pal = sns.color_palette()\n",
        "plt.style.use('fivethirtyeight')"
      ]
    },
    {
      "cell_type": "code",
      "execution_count": 3,
      "id": "dd8f5115",
      "metadata": {
        "id": "dd8f5115"
      },
      "outputs": [],
      "source": [
        "df = pd.read_csv('/content/Historical Product Demand.csv')"
      ]
    },
    {
      "cell_type": "markdown",
      "id": "2e45123d",
      "metadata": {
        "id": "2e45123d"
      },
      "source": [
        "# Load the data into a dataframe"
      ]
    },
    {
      "cell_type": "code",
      "execution_count": 4,
      "id": "37176fb3",
      "metadata": {
        "colab": {
          "base_uri": "https://localhost:8080/",
          "height": 206
        },
        "id": "37176fb3",
        "outputId": "6eab878c-f1a3-4c43-a807-cc9c54c920bf"
      },
      "outputs": [
        {
          "output_type": "execute_result",
          "data": {
            "text/plain": [
              "   Product_Code Warehouse Product_Category        Date  Order_Demand\n",
              "0  Product_0993    Whse_J     Category_028  27-07-2012         100.0\n",
              "1  Product_0979    Whse_J     Category_028  19-01-2012         500.0\n",
              "2  Product_0979    Whse_J     Category_028  03-02-2012         500.0\n",
              "3  Product_0979    Whse_J     Category_028  09-02-2012         500.0\n",
              "4  Product_0979    Whse_J     Category_028  02-03-2012         500.0"
            ],
            "text/html": [
              "\n",
              "  <div id=\"df-2fc3ae0c-a518-459d-861f-581e58093fde\" class=\"colab-df-container\">\n",
              "    <div>\n",
              "<style scoped>\n",
              "    .dataframe tbody tr th:only-of-type {\n",
              "        vertical-align: middle;\n",
              "    }\n",
              "\n",
              "    .dataframe tbody tr th {\n",
              "        vertical-align: top;\n",
              "    }\n",
              "\n",
              "    .dataframe thead th {\n",
              "        text-align: right;\n",
              "    }\n",
              "</style>\n",
              "<table border=\"1\" class=\"dataframe\">\n",
              "  <thead>\n",
              "    <tr style=\"text-align: right;\">\n",
              "      <th></th>\n",
              "      <th>Product_Code</th>\n",
              "      <th>Warehouse</th>\n",
              "      <th>Product_Category</th>\n",
              "      <th>Date</th>\n",
              "      <th>Order_Demand</th>\n",
              "    </tr>\n",
              "  </thead>\n",
              "  <tbody>\n",
              "    <tr>\n",
              "      <th>0</th>\n",
              "      <td>Product_0993</td>\n",
              "      <td>Whse_J</td>\n",
              "      <td>Category_028</td>\n",
              "      <td>27-07-2012</td>\n",
              "      <td>100.0</td>\n",
              "    </tr>\n",
              "    <tr>\n",
              "      <th>1</th>\n",
              "      <td>Product_0979</td>\n",
              "      <td>Whse_J</td>\n",
              "      <td>Category_028</td>\n",
              "      <td>19-01-2012</td>\n",
              "      <td>500.0</td>\n",
              "    </tr>\n",
              "    <tr>\n",
              "      <th>2</th>\n",
              "      <td>Product_0979</td>\n",
              "      <td>Whse_J</td>\n",
              "      <td>Category_028</td>\n",
              "      <td>03-02-2012</td>\n",
              "      <td>500.0</td>\n",
              "    </tr>\n",
              "    <tr>\n",
              "      <th>3</th>\n",
              "      <td>Product_0979</td>\n",
              "      <td>Whse_J</td>\n",
              "      <td>Category_028</td>\n",
              "      <td>09-02-2012</td>\n",
              "      <td>500.0</td>\n",
              "    </tr>\n",
              "    <tr>\n",
              "      <th>4</th>\n",
              "      <td>Product_0979</td>\n",
              "      <td>Whse_J</td>\n",
              "      <td>Category_028</td>\n",
              "      <td>02-03-2012</td>\n",
              "      <td>500.0</td>\n",
              "    </tr>\n",
              "  </tbody>\n",
              "</table>\n",
              "</div>\n",
              "    <div class=\"colab-df-buttons\">\n",
              "\n",
              "  <div class=\"colab-df-container\">\n",
              "    <button class=\"colab-df-convert\" onclick=\"convertToInteractive('df-2fc3ae0c-a518-459d-861f-581e58093fde')\"\n",
              "            title=\"Convert this dataframe to an interactive table.\"\n",
              "            style=\"display:none;\">\n",
              "\n",
              "  <svg xmlns=\"http://www.w3.org/2000/svg\" height=\"24px\" viewBox=\"0 -960 960 960\">\n",
              "    <path d=\"M120-120v-720h720v720H120Zm60-500h600v-160H180v160Zm220 220h160v-160H400v160Zm0 220h160v-160H400v160ZM180-400h160v-160H180v160Zm440 0h160v-160H620v160ZM180-180h160v-160H180v160Zm440 0h160v-160H620v160Z\"/>\n",
              "  </svg>\n",
              "    </button>\n",
              "\n",
              "  <style>\n",
              "    .colab-df-container {\n",
              "      display:flex;\n",
              "      gap: 12px;\n",
              "    }\n",
              "\n",
              "    .colab-df-convert {\n",
              "      background-color: #E8F0FE;\n",
              "      border: none;\n",
              "      border-radius: 50%;\n",
              "      cursor: pointer;\n",
              "      display: none;\n",
              "      fill: #1967D2;\n",
              "      height: 32px;\n",
              "      padding: 0 0 0 0;\n",
              "      width: 32px;\n",
              "    }\n",
              "\n",
              "    .colab-df-convert:hover {\n",
              "      background-color: #E2EBFA;\n",
              "      box-shadow: 0px 1px 2px rgba(60, 64, 67, 0.3), 0px 1px 3px 1px rgba(60, 64, 67, 0.15);\n",
              "      fill: #174EA6;\n",
              "    }\n",
              "\n",
              "    .colab-df-buttons div {\n",
              "      margin-bottom: 4px;\n",
              "    }\n",
              "\n",
              "    [theme=dark] .colab-df-convert {\n",
              "      background-color: #3B4455;\n",
              "      fill: #D2E3FC;\n",
              "    }\n",
              "\n",
              "    [theme=dark] .colab-df-convert:hover {\n",
              "      background-color: #434B5C;\n",
              "      box-shadow: 0px 1px 3px 1px rgba(0, 0, 0, 0.15);\n",
              "      filter: drop-shadow(0px 1px 2px rgba(0, 0, 0, 0.3));\n",
              "      fill: #FFFFFF;\n",
              "    }\n",
              "  </style>\n",
              "\n",
              "    <script>\n",
              "      const buttonEl =\n",
              "        document.querySelector('#df-2fc3ae0c-a518-459d-861f-581e58093fde button.colab-df-convert');\n",
              "      buttonEl.style.display =\n",
              "        google.colab.kernel.accessAllowed ? 'block' : 'none';\n",
              "\n",
              "      async function convertToInteractive(key) {\n",
              "        const element = document.querySelector('#df-2fc3ae0c-a518-459d-861f-581e58093fde');\n",
              "        const dataTable =\n",
              "          await google.colab.kernel.invokeFunction('convertToInteractive',\n",
              "                                                    [key], {});\n",
              "        if (!dataTable) return;\n",
              "\n",
              "        const docLinkHtml = 'Like what you see? Visit the ' +\n",
              "          '<a target=\"_blank\" href=https://colab.research.google.com/notebooks/data_table.ipynb>data table notebook</a>'\n",
              "          + ' to learn more about interactive tables.';\n",
              "        element.innerHTML = '';\n",
              "        dataTable['output_type'] = 'display_data';\n",
              "        await google.colab.output.renderOutput(dataTable, element);\n",
              "        const docLink = document.createElement('div');\n",
              "        docLink.innerHTML = docLinkHtml;\n",
              "        element.appendChild(docLink);\n",
              "      }\n",
              "    </script>\n",
              "  </div>\n",
              "\n",
              "\n",
              "<div id=\"df-2cb818ef-6af8-4de1-9dac-6d0f17ea5b30\">\n",
              "  <button class=\"colab-df-quickchart\" onclick=\"quickchart('df-2cb818ef-6af8-4de1-9dac-6d0f17ea5b30')\"\n",
              "            title=\"Suggest charts\"\n",
              "            style=\"display:none;\">\n",
              "\n",
              "<svg xmlns=\"http://www.w3.org/2000/svg\" height=\"24px\"viewBox=\"0 0 24 24\"\n",
              "     width=\"24px\">\n",
              "    <g>\n",
              "        <path d=\"M19 3H5c-1.1 0-2 .9-2 2v14c0 1.1.9 2 2 2h14c1.1 0 2-.9 2-2V5c0-1.1-.9-2-2-2zM9 17H7v-7h2v7zm4 0h-2V7h2v10zm4 0h-2v-4h2v4z\"/>\n",
              "    </g>\n",
              "</svg>\n",
              "  </button>\n",
              "\n",
              "<style>\n",
              "  .colab-df-quickchart {\n",
              "      --bg-color: #E8F0FE;\n",
              "      --fill-color: #1967D2;\n",
              "      --hover-bg-color: #E2EBFA;\n",
              "      --hover-fill-color: #174EA6;\n",
              "      --disabled-fill-color: #AAA;\n",
              "      --disabled-bg-color: #DDD;\n",
              "  }\n",
              "\n",
              "  [theme=dark] .colab-df-quickchart {\n",
              "      --bg-color: #3B4455;\n",
              "      --fill-color: #D2E3FC;\n",
              "      --hover-bg-color: #434B5C;\n",
              "      --hover-fill-color: #FFFFFF;\n",
              "      --disabled-bg-color: #3B4455;\n",
              "      --disabled-fill-color: #666;\n",
              "  }\n",
              "\n",
              "  .colab-df-quickchart {\n",
              "    background-color: var(--bg-color);\n",
              "    border: none;\n",
              "    border-radius: 50%;\n",
              "    cursor: pointer;\n",
              "    display: none;\n",
              "    fill: var(--fill-color);\n",
              "    height: 32px;\n",
              "    padding: 0;\n",
              "    width: 32px;\n",
              "  }\n",
              "\n",
              "  .colab-df-quickchart:hover {\n",
              "    background-color: var(--hover-bg-color);\n",
              "    box-shadow: 0 1px 2px rgba(60, 64, 67, 0.3), 0 1px 3px 1px rgba(60, 64, 67, 0.15);\n",
              "    fill: var(--button-hover-fill-color);\n",
              "  }\n",
              "\n",
              "  .colab-df-quickchart-complete:disabled,\n",
              "  .colab-df-quickchart-complete:disabled:hover {\n",
              "    background-color: var(--disabled-bg-color);\n",
              "    fill: var(--disabled-fill-color);\n",
              "    box-shadow: none;\n",
              "  }\n",
              "\n",
              "  .colab-df-spinner {\n",
              "    border: 2px solid var(--fill-color);\n",
              "    border-color: transparent;\n",
              "    border-bottom-color: var(--fill-color);\n",
              "    animation:\n",
              "      spin 1s steps(1) infinite;\n",
              "  }\n",
              "\n",
              "  @keyframes spin {\n",
              "    0% {\n",
              "      border-color: transparent;\n",
              "      border-bottom-color: var(--fill-color);\n",
              "      border-left-color: var(--fill-color);\n",
              "    }\n",
              "    20% {\n",
              "      border-color: transparent;\n",
              "      border-left-color: var(--fill-color);\n",
              "      border-top-color: var(--fill-color);\n",
              "    }\n",
              "    30% {\n",
              "      border-color: transparent;\n",
              "      border-left-color: var(--fill-color);\n",
              "      border-top-color: var(--fill-color);\n",
              "      border-right-color: var(--fill-color);\n",
              "    }\n",
              "    40% {\n",
              "      border-color: transparent;\n",
              "      border-right-color: var(--fill-color);\n",
              "      border-top-color: var(--fill-color);\n",
              "    }\n",
              "    60% {\n",
              "      border-color: transparent;\n",
              "      border-right-color: var(--fill-color);\n",
              "    }\n",
              "    80% {\n",
              "      border-color: transparent;\n",
              "      border-right-color: var(--fill-color);\n",
              "      border-bottom-color: var(--fill-color);\n",
              "    }\n",
              "    90% {\n",
              "      border-color: transparent;\n",
              "      border-bottom-color: var(--fill-color);\n",
              "    }\n",
              "  }\n",
              "</style>\n",
              "\n",
              "  <script>\n",
              "    async function quickchart(key) {\n",
              "      const quickchartButtonEl =\n",
              "        document.querySelector('#' + key + ' button');\n",
              "      quickchartButtonEl.disabled = true;  // To prevent multiple clicks.\n",
              "      quickchartButtonEl.classList.add('colab-df-spinner');\n",
              "      try {\n",
              "        const charts = await google.colab.kernel.invokeFunction(\n",
              "            'suggestCharts', [key], {});\n",
              "      } catch (error) {\n",
              "        console.error('Error during call to suggestCharts:', error);\n",
              "      }\n",
              "      quickchartButtonEl.classList.remove('colab-df-spinner');\n",
              "      quickchartButtonEl.classList.add('colab-df-quickchart-complete');\n",
              "    }\n",
              "    (() => {\n",
              "      let quickchartButtonEl =\n",
              "        document.querySelector('#df-2cb818ef-6af8-4de1-9dac-6d0f17ea5b30 button');\n",
              "      quickchartButtonEl.style.display =\n",
              "        google.colab.kernel.accessAllowed ? 'block' : 'none';\n",
              "    })();\n",
              "  </script>\n",
              "</div>\n",
              "\n",
              "    </div>\n",
              "  </div>\n"
            ],
            "application/vnd.google.colaboratory.intrinsic+json": {
              "type": "dataframe",
              "variable_name": "df",
              "summary": "{\n  \"name\": \"df\",\n  \"rows\": 42213,\n  \"fields\": [\n    {\n      \"column\": \"Product_Code\",\n      \"properties\": {\n        \"dtype\": \"category\",\n        \"num_unique_values\": 1216,\n        \"samples\": [\n          \"Product_0151\",\n          \"Product_0063\",\n          \"Product_1263\"\n        ],\n        \"semantic_type\": \"\",\n        \"description\": \"\"\n      }\n    },\n    {\n      \"column\": \"Warehouse\",\n      \"properties\": {\n        \"dtype\": \"category\",\n        \"num_unique_values\": 4,\n        \"samples\": [\n          \"Whse_S\",\n          \"Whse_A\",\n          \"Whse_J\"\n        ],\n        \"semantic_type\": \"\",\n        \"description\": \"\"\n      }\n    },\n    {\n      \"column\": \"Product_Category\",\n      \"properties\": {\n        \"dtype\": \"category\",\n        \"num_unique_values\": 26,\n        \"samples\": [\n          \"Category_033\",\n          \"Category_009\",\n          \"Category_028\"\n        ],\n        \"semantic_type\": \"\",\n        \"description\": \"\"\n      }\n    },\n    {\n      \"column\": \"Date\",\n      \"properties\": {\n        \"dtype\": \"object\",\n        \"num_unique_values\": 340,\n        \"samples\": [\n          \"13-05-2012\",\n          \"17-02-2012\",\n          \"15-11-2012\"\n        ],\n        \"semantic_type\": \"\",\n        \"description\": \"\"\n      }\n    },\n    {\n      \"column\": \"Order_Demand\",\n      \"properties\": {\n        \"dtype\": \"number\",\n        \"std\": 51768.86242921474,\n        \"min\": 1.0,\n        \"max\": 4000000.0,\n        \"num_unique_values\": 785,\n        \"samples\": [\n          990.0,\n          1500.0,\n          89.0\n        ],\n        \"semantic_type\": \"\",\n        \"description\": \"\"\n      }\n    }\n  ]\n}"
            }
          },
          "metadata": {},
          "execution_count": 4
        }
      ],
      "source": [
        "df.head()"
      ]
    },
    {
      "cell_type": "markdown",
      "id": "4e4d3c60",
      "metadata": {
        "id": "4e4d3c60"
      },
      "source": [
        "# Data Understanding"
      ]
    },
    {
      "cell_type": "code",
      "execution_count": 5,
      "id": "1755d756",
      "metadata": {
        "colab": {
          "base_uri": "https://localhost:8080/"
        },
        "id": "1755d756",
        "outputId": "040df182-dff4-402b-a76f-434350aca300"
      },
      "outputs": [
        {
          "output_type": "execute_result",
          "data": {
            "text/plain": [
              "(42213, 5)"
            ]
          },
          "metadata": {},
          "execution_count": 5
        }
      ],
      "source": [
        "df.shape"
      ]
    },
    {
      "cell_type": "code",
      "execution_count": 6,
      "id": "654b7b45",
      "metadata": {
        "colab": {
          "base_uri": "https://localhost:8080/"
        },
        "id": "654b7b45",
        "outputId": "c7bf4580-dc74-4763-de9e-7518af11dc9f"
      },
      "outputs": [
        {
          "output_type": "execute_result",
          "data": {
            "text/plain": [
              "Index(['Product_Code', 'Warehouse', 'Product_Category', 'Date',\n",
              "       'Order_Demand'],\n",
              "      dtype='object')"
            ]
          },
          "metadata": {},
          "execution_count": 6
        }
      ],
      "source": [
        "df.columns"
      ]
    },
    {
      "cell_type": "code",
      "execution_count": 7,
      "id": "99098d79",
      "metadata": {
        "colab": {
          "base_uri": "https://localhost:8080/"
        },
        "id": "99098d79",
        "outputId": "ac50dcf7-6763-457a-f3ba-6916b5080291"
      },
      "outputs": [
        {
          "output_type": "execute_result",
          "data": {
            "text/plain": [
              "array(['Product_0993', 'Product_0979', 'Product_1159', ...,\n",
              "       'Product_1598', 'Product_0403', 'Product_0470'], dtype=object)"
            ]
          },
          "metadata": {},
          "execution_count": 7
        }
      ],
      "source": [
        "df.Product_Code.unique()"
      ]
    },
    {
      "cell_type": "code",
      "execution_count": 8,
      "id": "d2b7f36b",
      "metadata": {
        "colab": {
          "base_uri": "https://localhost:8080/"
        },
        "id": "d2b7f36b",
        "outputId": "5b898e95-777a-4a30-d943-2928888556e0"
      },
      "outputs": [
        {
          "output_type": "execute_result",
          "data": {
            "text/plain": [
              "array(['Whse_J', 'Whse_S', 'Whse_C', 'Whse_A'], dtype=object)"
            ]
          },
          "metadata": {},
          "execution_count": 8
        }
      ],
      "source": [
        "df.Warehouse.unique()"
      ]
    },
    {
      "cell_type": "code",
      "execution_count": 9,
      "id": "33c3db71",
      "metadata": {
        "colab": {
          "base_uri": "https://localhost:8080/"
        },
        "id": "33c3db71",
        "outputId": "4c6a86a5-ff3a-4d5a-9049-0d3a5769eec1"
      },
      "outputs": [
        {
          "output_type": "execute_result",
          "data": {
            "text/plain": [
              "26"
            ]
          },
          "metadata": {},
          "execution_count": 9
        }
      ],
      "source": [
        "df.Product_Category.nunique()"
      ]
    },
    {
      "cell_type": "markdown",
      "id": "2cfff199",
      "metadata": {
        "id": "2cfff199"
      },
      "source": [
        "# Data Cleaning"
      ]
    },
    {
      "cell_type": "code",
      "execution_count": 10,
      "id": "259bb77c",
      "metadata": {
        "colab": {
          "base_uri": "https://localhost:8080/",
          "height": 241
        },
        "id": "259bb77c",
        "outputId": "80f11c8f-c97f-4627-9972-37e7b6dbfde0"
      },
      "outputs": [
        {
          "output_type": "execute_result",
          "data": {
            "text/plain": [
              "Product_Code         object\n",
              "Warehouse            object\n",
              "Product_Category     object\n",
              "Date                 object\n",
              "Order_Demand        float64\n",
              "dtype: object"
            ],
            "text/html": [
              "<div>\n",
              "<style scoped>\n",
              "    .dataframe tbody tr th:only-of-type {\n",
              "        vertical-align: middle;\n",
              "    }\n",
              "\n",
              "    .dataframe tbody tr th {\n",
              "        vertical-align: top;\n",
              "    }\n",
              "\n",
              "    .dataframe thead th {\n",
              "        text-align: right;\n",
              "    }\n",
              "</style>\n",
              "<table border=\"1\" class=\"dataframe\">\n",
              "  <thead>\n",
              "    <tr style=\"text-align: right;\">\n",
              "      <th></th>\n",
              "      <th>0</th>\n",
              "    </tr>\n",
              "  </thead>\n",
              "  <tbody>\n",
              "    <tr>\n",
              "      <th>Product_Code</th>\n",
              "      <td>object</td>\n",
              "    </tr>\n",
              "    <tr>\n",
              "      <th>Warehouse</th>\n",
              "      <td>object</td>\n",
              "    </tr>\n",
              "    <tr>\n",
              "      <th>Product_Category</th>\n",
              "      <td>object</td>\n",
              "    </tr>\n",
              "    <tr>\n",
              "      <th>Date</th>\n",
              "      <td>object</td>\n",
              "    </tr>\n",
              "    <tr>\n",
              "      <th>Order_Demand</th>\n",
              "      <td>float64</td>\n",
              "    </tr>\n",
              "  </tbody>\n",
              "</table>\n",
              "</div><br><label><b>dtype:</b> object</label>"
            ]
          },
          "metadata": {},
          "execution_count": 10
        }
      ],
      "source": [
        "df.dtypes"
      ]
    },
    {
      "cell_type": "code",
      "execution_count": 11,
      "id": "b55b8a23",
      "metadata": {
        "colab": {
          "base_uri": "https://localhost:8080/",
          "height": 81
        },
        "id": "b55b8a23",
        "outputId": "e956677b-0743-4be1-d431-690938c751a4"
      },
      "outputs": [
        {
          "output_type": "execute_result",
          "data": {
            "text/plain": [
              "       Product_Code Warehouse Product_Category        Date  Order_Demand\n",
              "42212  Product_1263    Whse_S     Category_019  11-04-2012           NaN"
            ],
            "text/html": [
              "\n",
              "  <div id=\"df-89ed731d-2558-4d6c-9445-baba133e1713\" class=\"colab-df-container\">\n",
              "    <div>\n",
              "<style scoped>\n",
              "    .dataframe tbody tr th:only-of-type {\n",
              "        vertical-align: middle;\n",
              "    }\n",
              "\n",
              "    .dataframe tbody tr th {\n",
              "        vertical-align: top;\n",
              "    }\n",
              "\n",
              "    .dataframe thead th {\n",
              "        text-align: right;\n",
              "    }\n",
              "</style>\n",
              "<table border=\"1\" class=\"dataframe\">\n",
              "  <thead>\n",
              "    <tr style=\"text-align: right;\">\n",
              "      <th></th>\n",
              "      <th>Product_Code</th>\n",
              "      <th>Warehouse</th>\n",
              "      <th>Product_Category</th>\n",
              "      <th>Date</th>\n",
              "      <th>Order_Demand</th>\n",
              "    </tr>\n",
              "  </thead>\n",
              "  <tbody>\n",
              "    <tr>\n",
              "      <th>42212</th>\n",
              "      <td>Product_1263</td>\n",
              "      <td>Whse_S</td>\n",
              "      <td>Category_019</td>\n",
              "      <td>11-04-2012</td>\n",
              "      <td>NaN</td>\n",
              "    </tr>\n",
              "  </tbody>\n",
              "</table>\n",
              "</div>\n",
              "    <div class=\"colab-df-buttons\">\n",
              "\n",
              "  <div class=\"colab-df-container\">\n",
              "    <button class=\"colab-df-convert\" onclick=\"convertToInteractive('df-89ed731d-2558-4d6c-9445-baba133e1713')\"\n",
              "            title=\"Convert this dataframe to an interactive table.\"\n",
              "            style=\"display:none;\">\n",
              "\n",
              "  <svg xmlns=\"http://www.w3.org/2000/svg\" height=\"24px\" viewBox=\"0 -960 960 960\">\n",
              "    <path d=\"M120-120v-720h720v720H120Zm60-500h600v-160H180v160Zm220 220h160v-160H400v160Zm0 220h160v-160H400v160ZM180-400h160v-160H180v160Zm440 0h160v-160H620v160ZM180-180h160v-160H180v160Zm440 0h160v-160H620v160Z\"/>\n",
              "  </svg>\n",
              "    </button>\n",
              "\n",
              "  <style>\n",
              "    .colab-df-container {\n",
              "      display:flex;\n",
              "      gap: 12px;\n",
              "    }\n",
              "\n",
              "    .colab-df-convert {\n",
              "      background-color: #E8F0FE;\n",
              "      border: none;\n",
              "      border-radius: 50%;\n",
              "      cursor: pointer;\n",
              "      display: none;\n",
              "      fill: #1967D2;\n",
              "      height: 32px;\n",
              "      padding: 0 0 0 0;\n",
              "      width: 32px;\n",
              "    }\n",
              "\n",
              "    .colab-df-convert:hover {\n",
              "      background-color: #E2EBFA;\n",
              "      box-shadow: 0px 1px 2px rgba(60, 64, 67, 0.3), 0px 1px 3px 1px rgba(60, 64, 67, 0.15);\n",
              "      fill: #174EA6;\n",
              "    }\n",
              "\n",
              "    .colab-df-buttons div {\n",
              "      margin-bottom: 4px;\n",
              "    }\n",
              "\n",
              "    [theme=dark] .colab-df-convert {\n",
              "      background-color: #3B4455;\n",
              "      fill: #D2E3FC;\n",
              "    }\n",
              "\n",
              "    [theme=dark] .colab-df-convert:hover {\n",
              "      background-color: #434B5C;\n",
              "      box-shadow: 0px 1px 3px 1px rgba(0, 0, 0, 0.15);\n",
              "      filter: drop-shadow(0px 1px 2px rgba(0, 0, 0, 0.3));\n",
              "      fill: #FFFFFF;\n",
              "    }\n",
              "  </style>\n",
              "\n",
              "    <script>\n",
              "      const buttonEl =\n",
              "        document.querySelector('#df-89ed731d-2558-4d6c-9445-baba133e1713 button.colab-df-convert');\n",
              "      buttonEl.style.display =\n",
              "        google.colab.kernel.accessAllowed ? 'block' : 'none';\n",
              "\n",
              "      async function convertToInteractive(key) {\n",
              "        const element = document.querySelector('#df-89ed731d-2558-4d6c-9445-baba133e1713');\n",
              "        const dataTable =\n",
              "          await google.colab.kernel.invokeFunction('convertToInteractive',\n",
              "                                                    [key], {});\n",
              "        if (!dataTable) return;\n",
              "\n",
              "        const docLinkHtml = 'Like what you see? Visit the ' +\n",
              "          '<a target=\"_blank\" href=https://colab.research.google.com/notebooks/data_table.ipynb>data table notebook</a>'\n",
              "          + ' to learn more about interactive tables.';\n",
              "        element.innerHTML = '';\n",
              "        dataTable['output_type'] = 'display_data';\n",
              "        await google.colab.output.renderOutput(dataTable, element);\n",
              "        const docLink = document.createElement('div');\n",
              "        docLink.innerHTML = docLinkHtml;\n",
              "        element.appendChild(docLink);\n",
              "      }\n",
              "    </script>\n",
              "  </div>\n",
              "\n",
              "\n",
              "    </div>\n",
              "  </div>\n"
            ],
            "application/vnd.google.colaboratory.intrinsic+json": {
              "type": "dataframe",
              "repr_error": "0"
            }
          },
          "metadata": {},
          "execution_count": 11
        }
      ],
      "source": [
        "def check_order_demand(x):\n",
        "    try:\n",
        "        int(x)\n",
        "    except:\n",
        "        return False\n",
        "    return True\n",
        "#Check where Order_demand is not an integer\n",
        "df[~df.Order_Demand.apply(lambda x: check_order_demand(x))].head(6)"
      ]
    },
    {
      "cell_type": "code",
      "execution_count": 12,
      "id": "a12dba0a",
      "metadata": {
        "colab": {
          "base_uri": "https://localhost:8080/"
        },
        "id": "a12dba0a",
        "outputId": "08b55825-e6ef-40a6-8e3d-3e70d4b92a7b"
      },
      "outputs": [
        {
          "output_type": "execute_result",
          "data": {
            "text/plain": [
              "10"
            ]
          },
          "metadata": {},
          "execution_count": 12
        }
      ],
      "source": [
        "# Convert the Order_demand to an Integer\n",
        "def change_to_int(x):\n",
        "    try:\n",
        "        return int(x)\n",
        "    except:\n",
        "        return int(x[1:-1])\n",
        "check = '(10)'\n",
        "change_to_int(check)"
      ]
    },
    {
      "cell_type": "code",
      "execution_count": 13,
      "id": "NmvuqAbpU_jm",
      "metadata": {
        "id": "NmvuqAbpU_jm"
      },
      "outputs": [],
      "source": [
        "# Convert the Order_demand to an Integer\n",
        "def change_to_int(x):\n",
        "    try:\n",
        "        return int(float(x))  # Handle potential float strings\n",
        "    except ValueError:\n",
        "        if pd.isna(x):  # Check for NaN and replace with a default value\n",
        "            return 0  # Or any other suitable default\n",
        "        else:\n",
        "            try:\n",
        "                return int(x[1:-1])  # Handle strings with parentheses\n",
        "            except:\n",
        "                return None  # Handle other unexpected formats\n",
        "\n",
        "# Apply the function and handle potential None values\n",
        "df.Order_Demand = df.Order_Demand.apply(lambda x: change_to_int(x)).fillna(0)"
      ]
    },
    {
      "cell_type": "code",
      "execution_count": 14,
      "id": "2c09fa55",
      "metadata": {
        "colab": {
          "base_uri": "https://localhost:8080/",
          "height": 300
        },
        "id": "2c09fa55",
        "outputId": "1b8eb34a-31de-4201-d857-45a47cda1e0f"
      },
      "outputs": [
        {
          "output_type": "execute_result",
          "data": {
            "text/plain": [
              "       Order_Demand\n",
              "count  4.221300e+04\n",
              "mean   1.166126e+04\n",
              "std    5.176828e+04\n",
              "min    0.000000e+00\n",
              "25%    2.000000e+02\n",
              "50%    1.200000e+03\n",
              "75%    8.200000e+03\n",
              "max    4.000000e+06"
            ],
            "text/html": [
              "\n",
              "  <div id=\"df-b791c8d5-95da-4417-b988-7dccd46c9199\" class=\"colab-df-container\">\n",
              "    <div>\n",
              "<style scoped>\n",
              "    .dataframe tbody tr th:only-of-type {\n",
              "        vertical-align: middle;\n",
              "    }\n",
              "\n",
              "    .dataframe tbody tr th {\n",
              "        vertical-align: top;\n",
              "    }\n",
              "\n",
              "    .dataframe thead th {\n",
              "        text-align: right;\n",
              "    }\n",
              "</style>\n",
              "<table border=\"1\" class=\"dataframe\">\n",
              "  <thead>\n",
              "    <tr style=\"text-align: right;\">\n",
              "      <th></th>\n",
              "      <th>Order_Demand</th>\n",
              "    </tr>\n",
              "  </thead>\n",
              "  <tbody>\n",
              "    <tr>\n",
              "      <th>count</th>\n",
              "      <td>4.221300e+04</td>\n",
              "    </tr>\n",
              "    <tr>\n",
              "      <th>mean</th>\n",
              "      <td>1.166126e+04</td>\n",
              "    </tr>\n",
              "    <tr>\n",
              "      <th>std</th>\n",
              "      <td>5.176828e+04</td>\n",
              "    </tr>\n",
              "    <tr>\n",
              "      <th>min</th>\n",
              "      <td>0.000000e+00</td>\n",
              "    </tr>\n",
              "    <tr>\n",
              "      <th>25%</th>\n",
              "      <td>2.000000e+02</td>\n",
              "    </tr>\n",
              "    <tr>\n",
              "      <th>50%</th>\n",
              "      <td>1.200000e+03</td>\n",
              "    </tr>\n",
              "    <tr>\n",
              "      <th>75%</th>\n",
              "      <td>8.200000e+03</td>\n",
              "    </tr>\n",
              "    <tr>\n",
              "      <th>max</th>\n",
              "      <td>4.000000e+06</td>\n",
              "    </tr>\n",
              "  </tbody>\n",
              "</table>\n",
              "</div>\n",
              "    <div class=\"colab-df-buttons\">\n",
              "\n",
              "  <div class=\"colab-df-container\">\n",
              "    <button class=\"colab-df-convert\" onclick=\"convertToInteractive('df-b791c8d5-95da-4417-b988-7dccd46c9199')\"\n",
              "            title=\"Convert this dataframe to an interactive table.\"\n",
              "            style=\"display:none;\">\n",
              "\n",
              "  <svg xmlns=\"http://www.w3.org/2000/svg\" height=\"24px\" viewBox=\"0 -960 960 960\">\n",
              "    <path d=\"M120-120v-720h720v720H120Zm60-500h600v-160H180v160Zm220 220h160v-160H400v160Zm0 220h160v-160H400v160ZM180-400h160v-160H180v160Zm440 0h160v-160H620v160ZM180-180h160v-160H180v160Zm440 0h160v-160H620v160Z\"/>\n",
              "  </svg>\n",
              "    </button>\n",
              "\n",
              "  <style>\n",
              "    .colab-df-container {\n",
              "      display:flex;\n",
              "      gap: 12px;\n",
              "    }\n",
              "\n",
              "    .colab-df-convert {\n",
              "      background-color: #E8F0FE;\n",
              "      border: none;\n",
              "      border-radius: 50%;\n",
              "      cursor: pointer;\n",
              "      display: none;\n",
              "      fill: #1967D2;\n",
              "      height: 32px;\n",
              "      padding: 0 0 0 0;\n",
              "      width: 32px;\n",
              "    }\n",
              "\n",
              "    .colab-df-convert:hover {\n",
              "      background-color: #E2EBFA;\n",
              "      box-shadow: 0px 1px 2px rgba(60, 64, 67, 0.3), 0px 1px 3px 1px rgba(60, 64, 67, 0.15);\n",
              "      fill: #174EA6;\n",
              "    }\n",
              "\n",
              "    .colab-df-buttons div {\n",
              "      margin-bottom: 4px;\n",
              "    }\n",
              "\n",
              "    [theme=dark] .colab-df-convert {\n",
              "      background-color: #3B4455;\n",
              "      fill: #D2E3FC;\n",
              "    }\n",
              "\n",
              "    [theme=dark] .colab-df-convert:hover {\n",
              "      background-color: #434B5C;\n",
              "      box-shadow: 0px 1px 3px 1px rgba(0, 0, 0, 0.15);\n",
              "      filter: drop-shadow(0px 1px 2px rgba(0, 0, 0, 0.3));\n",
              "      fill: #FFFFFF;\n",
              "    }\n",
              "  </style>\n",
              "\n",
              "    <script>\n",
              "      const buttonEl =\n",
              "        document.querySelector('#df-b791c8d5-95da-4417-b988-7dccd46c9199 button.colab-df-convert');\n",
              "      buttonEl.style.display =\n",
              "        google.colab.kernel.accessAllowed ? 'block' : 'none';\n",
              "\n",
              "      async function convertToInteractive(key) {\n",
              "        const element = document.querySelector('#df-b791c8d5-95da-4417-b988-7dccd46c9199');\n",
              "        const dataTable =\n",
              "          await google.colab.kernel.invokeFunction('convertToInteractive',\n",
              "                                                    [key], {});\n",
              "        if (!dataTable) return;\n",
              "\n",
              "        const docLinkHtml = 'Like what you see? Visit the ' +\n",
              "          '<a target=\"_blank\" href=https://colab.research.google.com/notebooks/data_table.ipynb>data table notebook</a>'\n",
              "          + ' to learn more about interactive tables.';\n",
              "        element.innerHTML = '';\n",
              "        dataTable['output_type'] = 'display_data';\n",
              "        await google.colab.output.renderOutput(dataTable, element);\n",
              "        const docLink = document.createElement('div');\n",
              "        docLink.innerHTML = docLinkHtml;\n",
              "        element.appendChild(docLink);\n",
              "      }\n",
              "    </script>\n",
              "  </div>\n",
              "\n",
              "\n",
              "<div id=\"df-a5dcdb78-6857-4930-b437-d1d3fe8550e4\">\n",
              "  <button class=\"colab-df-quickchart\" onclick=\"quickchart('df-a5dcdb78-6857-4930-b437-d1d3fe8550e4')\"\n",
              "            title=\"Suggest charts\"\n",
              "            style=\"display:none;\">\n",
              "\n",
              "<svg xmlns=\"http://www.w3.org/2000/svg\" height=\"24px\"viewBox=\"0 0 24 24\"\n",
              "     width=\"24px\">\n",
              "    <g>\n",
              "        <path d=\"M19 3H5c-1.1 0-2 .9-2 2v14c0 1.1.9 2 2 2h14c1.1 0 2-.9 2-2V5c0-1.1-.9-2-2-2zM9 17H7v-7h2v7zm4 0h-2V7h2v10zm4 0h-2v-4h2v4z\"/>\n",
              "    </g>\n",
              "</svg>\n",
              "  </button>\n",
              "\n",
              "<style>\n",
              "  .colab-df-quickchart {\n",
              "      --bg-color: #E8F0FE;\n",
              "      --fill-color: #1967D2;\n",
              "      --hover-bg-color: #E2EBFA;\n",
              "      --hover-fill-color: #174EA6;\n",
              "      --disabled-fill-color: #AAA;\n",
              "      --disabled-bg-color: #DDD;\n",
              "  }\n",
              "\n",
              "  [theme=dark] .colab-df-quickchart {\n",
              "      --bg-color: #3B4455;\n",
              "      --fill-color: #D2E3FC;\n",
              "      --hover-bg-color: #434B5C;\n",
              "      --hover-fill-color: #FFFFFF;\n",
              "      --disabled-bg-color: #3B4455;\n",
              "      --disabled-fill-color: #666;\n",
              "  }\n",
              "\n",
              "  .colab-df-quickchart {\n",
              "    background-color: var(--bg-color);\n",
              "    border: none;\n",
              "    border-radius: 50%;\n",
              "    cursor: pointer;\n",
              "    display: none;\n",
              "    fill: var(--fill-color);\n",
              "    height: 32px;\n",
              "    padding: 0;\n",
              "    width: 32px;\n",
              "  }\n",
              "\n",
              "  .colab-df-quickchart:hover {\n",
              "    background-color: var(--hover-bg-color);\n",
              "    box-shadow: 0 1px 2px rgba(60, 64, 67, 0.3), 0 1px 3px 1px rgba(60, 64, 67, 0.15);\n",
              "    fill: var(--button-hover-fill-color);\n",
              "  }\n",
              "\n",
              "  .colab-df-quickchart-complete:disabled,\n",
              "  .colab-df-quickchart-complete:disabled:hover {\n",
              "    background-color: var(--disabled-bg-color);\n",
              "    fill: var(--disabled-fill-color);\n",
              "    box-shadow: none;\n",
              "  }\n",
              "\n",
              "  .colab-df-spinner {\n",
              "    border: 2px solid var(--fill-color);\n",
              "    border-color: transparent;\n",
              "    border-bottom-color: var(--fill-color);\n",
              "    animation:\n",
              "      spin 1s steps(1) infinite;\n",
              "  }\n",
              "\n",
              "  @keyframes spin {\n",
              "    0% {\n",
              "      border-color: transparent;\n",
              "      border-bottom-color: var(--fill-color);\n",
              "      border-left-color: var(--fill-color);\n",
              "    }\n",
              "    20% {\n",
              "      border-color: transparent;\n",
              "      border-left-color: var(--fill-color);\n",
              "      border-top-color: var(--fill-color);\n",
              "    }\n",
              "    30% {\n",
              "      border-color: transparent;\n",
              "      border-left-color: var(--fill-color);\n",
              "      border-top-color: var(--fill-color);\n",
              "      border-right-color: var(--fill-color);\n",
              "    }\n",
              "    40% {\n",
              "      border-color: transparent;\n",
              "      border-right-color: var(--fill-color);\n",
              "      border-top-color: var(--fill-color);\n",
              "    }\n",
              "    60% {\n",
              "      border-color: transparent;\n",
              "      border-right-color: var(--fill-color);\n",
              "    }\n",
              "    80% {\n",
              "      border-color: transparent;\n",
              "      border-right-color: var(--fill-color);\n",
              "      border-bottom-color: var(--fill-color);\n",
              "    }\n",
              "    90% {\n",
              "      border-color: transparent;\n",
              "      border-bottom-color: var(--fill-color);\n",
              "    }\n",
              "  }\n",
              "</style>\n",
              "\n",
              "  <script>\n",
              "    async function quickchart(key) {\n",
              "      const quickchartButtonEl =\n",
              "        document.querySelector('#' + key + ' button');\n",
              "      quickchartButtonEl.disabled = true;  // To prevent multiple clicks.\n",
              "      quickchartButtonEl.classList.add('colab-df-spinner');\n",
              "      try {\n",
              "        const charts = await google.colab.kernel.invokeFunction(\n",
              "            'suggestCharts', [key], {});\n",
              "      } catch (error) {\n",
              "        console.error('Error during call to suggestCharts:', error);\n",
              "      }\n",
              "      quickchartButtonEl.classList.remove('colab-df-spinner');\n",
              "      quickchartButtonEl.classList.add('colab-df-quickchart-complete');\n",
              "    }\n",
              "    (() => {\n",
              "      let quickchartButtonEl =\n",
              "        document.querySelector('#df-a5dcdb78-6857-4930-b437-d1d3fe8550e4 button');\n",
              "      quickchartButtonEl.style.display =\n",
              "        google.colab.kernel.accessAllowed ? 'block' : 'none';\n",
              "    })();\n",
              "  </script>\n",
              "</div>\n",
              "\n",
              "    </div>\n",
              "  </div>\n"
            ],
            "application/vnd.google.colaboratory.intrinsic+json": {
              "type": "dataframe",
              "summary": "{\n  \"name\": \"df\",\n  \"rows\": 8,\n  \"fields\": [\n    {\n      \"column\": \"Order_Demand\",\n      \"properties\": {\n        \"dtype\": \"number\",\n        \"std\": 1408533.3787340815,\n        \"min\": 0.0,\n        \"max\": 4000000.0,\n        \"num_unique_values\": 8,\n        \"samples\": [\n          11661.258427498638,\n          1200.0,\n          42213.0\n        ],\n        \"semantic_type\": \"\",\n        \"description\": \"\"\n      }\n    }\n  ]\n}"
            }
          },
          "metadata": {},
          "execution_count": 14
        }
      ],
      "source": [
        "df.describe()"
      ]
    },
    {
      "cell_type": "code",
      "execution_count": 15,
      "id": "abf4d89d",
      "metadata": {
        "colab": {
          "base_uri": "https://localhost:8080/",
          "height": 206
        },
        "id": "abf4d89d",
        "outputId": "b21ae11c-e03d-4dd0-c099-21988939c54d"
      },
      "outputs": [
        {
          "output_type": "execute_result",
          "data": {
            "text/plain": [
              "           Code Warehouse      Category        Date  Demand\n",
              "0  Product_0993    Whse_J  Category_028  27-07-2012     100\n",
              "1  Product_0979    Whse_J  Category_028  19-01-2012     500\n",
              "2  Product_0979    Whse_J  Category_028  03-02-2012     500\n",
              "3  Product_0979    Whse_J  Category_028  09-02-2012     500\n",
              "4  Product_0979    Whse_J  Category_028  02-03-2012     500"
            ],
            "text/html": [
              "\n",
              "  <div id=\"df-6c22803f-4595-473e-aca1-7f03ce3365ca\" class=\"colab-df-container\">\n",
              "    <div>\n",
              "<style scoped>\n",
              "    .dataframe tbody tr th:only-of-type {\n",
              "        vertical-align: middle;\n",
              "    }\n",
              "\n",
              "    .dataframe tbody tr th {\n",
              "        vertical-align: top;\n",
              "    }\n",
              "\n",
              "    .dataframe thead th {\n",
              "        text-align: right;\n",
              "    }\n",
              "</style>\n",
              "<table border=\"1\" class=\"dataframe\">\n",
              "  <thead>\n",
              "    <tr style=\"text-align: right;\">\n",
              "      <th></th>\n",
              "      <th>Code</th>\n",
              "      <th>Warehouse</th>\n",
              "      <th>Category</th>\n",
              "      <th>Date</th>\n",
              "      <th>Demand</th>\n",
              "    </tr>\n",
              "  </thead>\n",
              "  <tbody>\n",
              "    <tr>\n",
              "      <th>0</th>\n",
              "      <td>Product_0993</td>\n",
              "      <td>Whse_J</td>\n",
              "      <td>Category_028</td>\n",
              "      <td>27-07-2012</td>\n",
              "      <td>100</td>\n",
              "    </tr>\n",
              "    <tr>\n",
              "      <th>1</th>\n",
              "      <td>Product_0979</td>\n",
              "      <td>Whse_J</td>\n",
              "      <td>Category_028</td>\n",
              "      <td>19-01-2012</td>\n",
              "      <td>500</td>\n",
              "    </tr>\n",
              "    <tr>\n",
              "      <th>2</th>\n",
              "      <td>Product_0979</td>\n",
              "      <td>Whse_J</td>\n",
              "      <td>Category_028</td>\n",
              "      <td>03-02-2012</td>\n",
              "      <td>500</td>\n",
              "    </tr>\n",
              "    <tr>\n",
              "      <th>3</th>\n",
              "      <td>Product_0979</td>\n",
              "      <td>Whse_J</td>\n",
              "      <td>Category_028</td>\n",
              "      <td>09-02-2012</td>\n",
              "      <td>500</td>\n",
              "    </tr>\n",
              "    <tr>\n",
              "      <th>4</th>\n",
              "      <td>Product_0979</td>\n",
              "      <td>Whse_J</td>\n",
              "      <td>Category_028</td>\n",
              "      <td>02-03-2012</td>\n",
              "      <td>500</td>\n",
              "    </tr>\n",
              "  </tbody>\n",
              "</table>\n",
              "</div>\n",
              "    <div class=\"colab-df-buttons\">\n",
              "\n",
              "  <div class=\"colab-df-container\">\n",
              "    <button class=\"colab-df-convert\" onclick=\"convertToInteractive('df-6c22803f-4595-473e-aca1-7f03ce3365ca')\"\n",
              "            title=\"Convert this dataframe to an interactive table.\"\n",
              "            style=\"display:none;\">\n",
              "\n",
              "  <svg xmlns=\"http://www.w3.org/2000/svg\" height=\"24px\" viewBox=\"0 -960 960 960\">\n",
              "    <path d=\"M120-120v-720h720v720H120Zm60-500h600v-160H180v160Zm220 220h160v-160H400v160Zm0 220h160v-160H400v160ZM180-400h160v-160H180v160Zm440 0h160v-160H620v160ZM180-180h160v-160H180v160Zm440 0h160v-160H620v160Z\"/>\n",
              "  </svg>\n",
              "    </button>\n",
              "\n",
              "  <style>\n",
              "    .colab-df-container {\n",
              "      display:flex;\n",
              "      gap: 12px;\n",
              "    }\n",
              "\n",
              "    .colab-df-convert {\n",
              "      background-color: #E8F0FE;\n",
              "      border: none;\n",
              "      border-radius: 50%;\n",
              "      cursor: pointer;\n",
              "      display: none;\n",
              "      fill: #1967D2;\n",
              "      height: 32px;\n",
              "      padding: 0 0 0 0;\n",
              "      width: 32px;\n",
              "    }\n",
              "\n",
              "    .colab-df-convert:hover {\n",
              "      background-color: #E2EBFA;\n",
              "      box-shadow: 0px 1px 2px rgba(60, 64, 67, 0.3), 0px 1px 3px 1px rgba(60, 64, 67, 0.15);\n",
              "      fill: #174EA6;\n",
              "    }\n",
              "\n",
              "    .colab-df-buttons div {\n",
              "      margin-bottom: 4px;\n",
              "    }\n",
              "\n",
              "    [theme=dark] .colab-df-convert {\n",
              "      background-color: #3B4455;\n",
              "      fill: #D2E3FC;\n",
              "    }\n",
              "\n",
              "    [theme=dark] .colab-df-convert:hover {\n",
              "      background-color: #434B5C;\n",
              "      box-shadow: 0px 1px 3px 1px rgba(0, 0, 0, 0.15);\n",
              "      filter: drop-shadow(0px 1px 2px rgba(0, 0, 0, 0.3));\n",
              "      fill: #FFFFFF;\n",
              "    }\n",
              "  </style>\n",
              "\n",
              "    <script>\n",
              "      const buttonEl =\n",
              "        document.querySelector('#df-6c22803f-4595-473e-aca1-7f03ce3365ca button.colab-df-convert');\n",
              "      buttonEl.style.display =\n",
              "        google.colab.kernel.accessAllowed ? 'block' : 'none';\n",
              "\n",
              "      async function convertToInteractive(key) {\n",
              "        const element = document.querySelector('#df-6c22803f-4595-473e-aca1-7f03ce3365ca');\n",
              "        const dataTable =\n",
              "          await google.colab.kernel.invokeFunction('convertToInteractive',\n",
              "                                                    [key], {});\n",
              "        if (!dataTable) return;\n",
              "\n",
              "        const docLinkHtml = 'Like what you see? Visit the ' +\n",
              "          '<a target=\"_blank\" href=https://colab.research.google.com/notebooks/data_table.ipynb>data table notebook</a>'\n",
              "          + ' to learn more about interactive tables.';\n",
              "        element.innerHTML = '';\n",
              "        dataTable['output_type'] = 'display_data';\n",
              "        await google.colab.output.renderOutput(dataTable, element);\n",
              "        const docLink = document.createElement('div');\n",
              "        docLink.innerHTML = docLinkHtml;\n",
              "        element.appendChild(docLink);\n",
              "      }\n",
              "    </script>\n",
              "  </div>\n",
              "\n",
              "\n",
              "<div id=\"df-76ea42eb-6d05-41c8-a5d1-2a4f953bc054\">\n",
              "  <button class=\"colab-df-quickchart\" onclick=\"quickchart('df-76ea42eb-6d05-41c8-a5d1-2a4f953bc054')\"\n",
              "            title=\"Suggest charts\"\n",
              "            style=\"display:none;\">\n",
              "\n",
              "<svg xmlns=\"http://www.w3.org/2000/svg\" height=\"24px\"viewBox=\"0 0 24 24\"\n",
              "     width=\"24px\">\n",
              "    <g>\n",
              "        <path d=\"M19 3H5c-1.1 0-2 .9-2 2v14c0 1.1.9 2 2 2h14c1.1 0 2-.9 2-2V5c0-1.1-.9-2-2-2zM9 17H7v-7h2v7zm4 0h-2V7h2v10zm4 0h-2v-4h2v4z\"/>\n",
              "    </g>\n",
              "</svg>\n",
              "  </button>\n",
              "\n",
              "<style>\n",
              "  .colab-df-quickchart {\n",
              "      --bg-color: #E8F0FE;\n",
              "      --fill-color: #1967D2;\n",
              "      --hover-bg-color: #E2EBFA;\n",
              "      --hover-fill-color: #174EA6;\n",
              "      --disabled-fill-color: #AAA;\n",
              "      --disabled-bg-color: #DDD;\n",
              "  }\n",
              "\n",
              "  [theme=dark] .colab-df-quickchart {\n",
              "      --bg-color: #3B4455;\n",
              "      --fill-color: #D2E3FC;\n",
              "      --hover-bg-color: #434B5C;\n",
              "      --hover-fill-color: #FFFFFF;\n",
              "      --disabled-bg-color: #3B4455;\n",
              "      --disabled-fill-color: #666;\n",
              "  }\n",
              "\n",
              "  .colab-df-quickchart {\n",
              "    background-color: var(--bg-color);\n",
              "    border: none;\n",
              "    border-radius: 50%;\n",
              "    cursor: pointer;\n",
              "    display: none;\n",
              "    fill: var(--fill-color);\n",
              "    height: 32px;\n",
              "    padding: 0;\n",
              "    width: 32px;\n",
              "  }\n",
              "\n",
              "  .colab-df-quickchart:hover {\n",
              "    background-color: var(--hover-bg-color);\n",
              "    box-shadow: 0 1px 2px rgba(60, 64, 67, 0.3), 0 1px 3px 1px rgba(60, 64, 67, 0.15);\n",
              "    fill: var(--button-hover-fill-color);\n",
              "  }\n",
              "\n",
              "  .colab-df-quickchart-complete:disabled,\n",
              "  .colab-df-quickchart-complete:disabled:hover {\n",
              "    background-color: var(--disabled-bg-color);\n",
              "    fill: var(--disabled-fill-color);\n",
              "    box-shadow: none;\n",
              "  }\n",
              "\n",
              "  .colab-df-spinner {\n",
              "    border: 2px solid var(--fill-color);\n",
              "    border-color: transparent;\n",
              "    border-bottom-color: var(--fill-color);\n",
              "    animation:\n",
              "      spin 1s steps(1) infinite;\n",
              "  }\n",
              "\n",
              "  @keyframes spin {\n",
              "    0% {\n",
              "      border-color: transparent;\n",
              "      border-bottom-color: var(--fill-color);\n",
              "      border-left-color: var(--fill-color);\n",
              "    }\n",
              "    20% {\n",
              "      border-color: transparent;\n",
              "      border-left-color: var(--fill-color);\n",
              "      border-top-color: var(--fill-color);\n",
              "    }\n",
              "    30% {\n",
              "      border-color: transparent;\n",
              "      border-left-color: var(--fill-color);\n",
              "      border-top-color: var(--fill-color);\n",
              "      border-right-color: var(--fill-color);\n",
              "    }\n",
              "    40% {\n",
              "      border-color: transparent;\n",
              "      border-right-color: var(--fill-color);\n",
              "      border-top-color: var(--fill-color);\n",
              "    }\n",
              "    60% {\n",
              "      border-color: transparent;\n",
              "      border-right-color: var(--fill-color);\n",
              "    }\n",
              "    80% {\n",
              "      border-color: transparent;\n",
              "      border-right-color: var(--fill-color);\n",
              "      border-bottom-color: var(--fill-color);\n",
              "    }\n",
              "    90% {\n",
              "      border-color: transparent;\n",
              "      border-bottom-color: var(--fill-color);\n",
              "    }\n",
              "  }\n",
              "</style>\n",
              "\n",
              "  <script>\n",
              "    async function quickchart(key) {\n",
              "      const quickchartButtonEl =\n",
              "        document.querySelector('#' + key + ' button');\n",
              "      quickchartButtonEl.disabled = true;  // To prevent multiple clicks.\n",
              "      quickchartButtonEl.classList.add('colab-df-spinner');\n",
              "      try {\n",
              "        const charts = await google.colab.kernel.invokeFunction(\n",
              "            'suggestCharts', [key], {});\n",
              "      } catch (error) {\n",
              "        console.error('Error during call to suggestCharts:', error);\n",
              "      }\n",
              "      quickchartButtonEl.classList.remove('colab-df-spinner');\n",
              "      quickchartButtonEl.classList.add('colab-df-quickchart-complete');\n",
              "    }\n",
              "    (() => {\n",
              "      let quickchartButtonEl =\n",
              "        document.querySelector('#df-76ea42eb-6d05-41c8-a5d1-2a4f953bc054 button');\n",
              "      quickchartButtonEl.style.display =\n",
              "        google.colab.kernel.accessAllowed ? 'block' : 'none';\n",
              "    })();\n",
              "  </script>\n",
              "</div>\n",
              "\n",
              "    </div>\n",
              "  </div>\n"
            ],
            "application/vnd.google.colaboratory.intrinsic+json": {
              "type": "dataframe",
              "variable_name": "df",
              "summary": "{\n  \"name\": \"df\",\n  \"rows\": 42213,\n  \"fields\": [\n    {\n      \"column\": \"Code\",\n      \"properties\": {\n        \"dtype\": \"category\",\n        \"num_unique_values\": 1216,\n        \"samples\": [\n          \"Product_0151\",\n          \"Product_0063\",\n          \"Product_1263\"\n        ],\n        \"semantic_type\": \"\",\n        \"description\": \"\"\n      }\n    },\n    {\n      \"column\": \"Warehouse\",\n      \"properties\": {\n        \"dtype\": \"category\",\n        \"num_unique_values\": 4,\n        \"samples\": [\n          \"Whse_S\",\n          \"Whse_A\",\n          \"Whse_J\"\n        ],\n        \"semantic_type\": \"\",\n        \"description\": \"\"\n      }\n    },\n    {\n      \"column\": \"Category\",\n      \"properties\": {\n        \"dtype\": \"category\",\n        \"num_unique_values\": 26,\n        \"samples\": [\n          \"Category_033\",\n          \"Category_009\",\n          \"Category_028\"\n        ],\n        \"semantic_type\": \"\",\n        \"description\": \"\"\n      }\n    },\n    {\n      \"column\": \"Date\",\n      \"properties\": {\n        \"dtype\": \"object\",\n        \"num_unique_values\": 340,\n        \"samples\": [\n          \"13-05-2012\",\n          \"17-02-2012\",\n          \"15-11-2012\"\n        ],\n        \"semantic_type\": \"\",\n        \"description\": \"\"\n      }\n    },\n    {\n      \"column\": \"Demand\",\n      \"properties\": {\n        \"dtype\": \"number\",\n        \"std\": 51768,\n        \"min\": 0,\n        \"max\": 4000000,\n        \"num_unique_values\": 786,\n        \"samples\": [\n          11300,\n          1500,\n          89\n        ],\n        \"semantic_type\": \"\",\n        \"description\": \"\"\n      }\n    }\n  ]\n}"
            }
          },
          "metadata": {},
          "execution_count": 15
        }
      ],
      "source": [
        "# Rename the columns\n",
        "df = df.rename(columns = {'Product_Code': 'Code',\n",
        "                    'Product_Category':'Category',\n",
        "                    'Order_Demand':'Demand'})\n",
        "df.head()"
      ]
    },
    {
      "cell_type": "code",
      "execution_count": 16,
      "id": "67c78a94",
      "metadata": {
        "colab": {
          "base_uri": "https://localhost:8080/",
          "height": 241
        },
        "id": "67c78a94",
        "outputId": "4274e51f-aa5a-4e25-b7ce-204663e86a0b"
      },
      "outputs": [
        {
          "output_type": "execute_result",
          "data": {
            "text/plain": [
              "Code         0\n",
              "Warehouse    0\n",
              "Category     0\n",
              "Date         0\n",
              "Demand       0\n",
              "dtype: int64"
            ],
            "text/html": [
              "<div>\n",
              "<style scoped>\n",
              "    .dataframe tbody tr th:only-of-type {\n",
              "        vertical-align: middle;\n",
              "    }\n",
              "\n",
              "    .dataframe tbody tr th {\n",
              "        vertical-align: top;\n",
              "    }\n",
              "\n",
              "    .dataframe thead th {\n",
              "        text-align: right;\n",
              "    }\n",
              "</style>\n",
              "<table border=\"1\" class=\"dataframe\">\n",
              "  <thead>\n",
              "    <tr style=\"text-align: right;\">\n",
              "      <th></th>\n",
              "      <th>0</th>\n",
              "    </tr>\n",
              "  </thead>\n",
              "  <tbody>\n",
              "    <tr>\n",
              "      <th>Code</th>\n",
              "      <td>0</td>\n",
              "    </tr>\n",
              "    <tr>\n",
              "      <th>Warehouse</th>\n",
              "      <td>0</td>\n",
              "    </tr>\n",
              "    <tr>\n",
              "      <th>Category</th>\n",
              "      <td>0</td>\n",
              "    </tr>\n",
              "    <tr>\n",
              "      <th>Date</th>\n",
              "      <td>0</td>\n",
              "    </tr>\n",
              "    <tr>\n",
              "      <th>Demand</th>\n",
              "      <td>0</td>\n",
              "    </tr>\n",
              "  </tbody>\n",
              "</table>\n",
              "</div><br><label><b>dtype:</b> int64</label>"
            ]
          },
          "metadata": {},
          "execution_count": 16
        }
      ],
      "source": [
        "# Check for missing data\n",
        "df.isna().sum()"
      ]
    },
    {
      "cell_type": "code",
      "execution_count": 17,
      "id": "5018d130",
      "metadata": {
        "colab": {
          "base_uri": "https://localhost:8080/"
        },
        "id": "5018d130",
        "outputId": "778c3ef1-cc6b-41f8-f278-ec8161884fed"
      },
      "outputs": [
        {
          "output_type": "stream",
          "name": "stderr",
          "text": [
            "<ipython-input-17-416901b98ca8>:1: FutureWarning: Series.__getitem__ treating keys as positions is deprecated. In a future version, integer keys will always be treated as labels (consistent with DataFrame behavior). To access a value by position, use `ser.iloc[pos]`\n",
            "  100 * df.isna().sum()[3]/ df.shape[0]\n"
          ]
        },
        {
          "output_type": "execute_result",
          "data": {
            "text/plain": [
              "0.0"
            ]
          },
          "metadata": {},
          "execution_count": 17
        }
      ],
      "source": [
        "100 * df.isna().sum()[3]/ df.shape[0]"
      ]
    },
    {
      "cell_type": "code",
      "execution_count": 18,
      "id": "c215ec87",
      "metadata": {
        "colab": {
          "base_uri": "https://localhost:8080/",
          "height": 241
        },
        "id": "c215ec87",
        "outputId": "35cdd951-4224-485d-e1eb-21954d6ab5c5"
      },
      "outputs": [
        {
          "output_type": "execute_result",
          "data": {
            "text/plain": [
              "Code         0\n",
              "Warehouse    0\n",
              "Category     0\n",
              "Date         0\n",
              "Demand       0\n",
              "dtype: int64"
            ],
            "text/html": [
              "<div>\n",
              "<style scoped>\n",
              "    .dataframe tbody tr th:only-of-type {\n",
              "        vertical-align: middle;\n",
              "    }\n",
              "\n",
              "    .dataframe tbody tr th {\n",
              "        vertical-align: top;\n",
              "    }\n",
              "\n",
              "    .dataframe thead th {\n",
              "        text-align: right;\n",
              "    }\n",
              "</style>\n",
              "<table border=\"1\" class=\"dataframe\">\n",
              "  <thead>\n",
              "    <tr style=\"text-align: right;\">\n",
              "      <th></th>\n",
              "      <th>0</th>\n",
              "    </tr>\n",
              "  </thead>\n",
              "  <tbody>\n",
              "    <tr>\n",
              "      <th>Code</th>\n",
              "      <td>0</td>\n",
              "    </tr>\n",
              "    <tr>\n",
              "      <th>Warehouse</th>\n",
              "      <td>0</td>\n",
              "    </tr>\n",
              "    <tr>\n",
              "      <th>Category</th>\n",
              "      <td>0</td>\n",
              "    </tr>\n",
              "    <tr>\n",
              "      <th>Date</th>\n",
              "      <td>0</td>\n",
              "    </tr>\n",
              "    <tr>\n",
              "      <th>Demand</th>\n",
              "      <td>0</td>\n",
              "    </tr>\n",
              "  </tbody>\n",
              "</table>\n",
              "</div><br><label><b>dtype:</b> int64</label>"
            ]
          },
          "metadata": {},
          "execution_count": 18
        }
      ],
      "source": [
        "# 1% of the data has missing value so we can drop all the na\n",
        "df = df.dropna()\n",
        "df.isna().sum()"
      ]
    },
    {
      "cell_type": "code",
      "execution_count": 19,
      "id": "39c155ec",
      "metadata": {
        "colab": {
          "base_uri": "https://localhost:8080/"
        },
        "id": "39c155ec",
        "outputId": "0de30d6b-610d-47aa-b502-f62ac9b588fe"
      },
      "outputs": [
        {
          "output_type": "execute_result",
          "data": {
            "text/plain": [
              "('01-01-2013', '31-12-2012')"
            ]
          },
          "metadata": {},
          "execution_count": 19
        }
      ],
      "source": [
        "# Check the length of time the data was collected\n",
        "df.Date.min(), df.Date.max()"
      ]
    },
    {
      "cell_type": "markdown",
      "id": "3c9f72df",
      "metadata": {
        "id": "3c9f72df"
      },
      "source": [
        "The data was collected from January 8th, 2011 to January 9th, 2017"
      ]
    },
    {
      "cell_type": "code",
      "execution_count": 20,
      "id": "309caa2a",
      "metadata": {
        "colab": {
          "base_uri": "https://localhost:8080/"
        },
        "id": "309caa2a",
        "outputId": "1e7fd0a0-e339-40da-9195-3f3caee02050"
      },
      "outputs": [
        {
          "output_type": "execute_result",
          "data": {
            "text/plain": [
              "array(['01-01-2013', '01-02-2012', '01-03-2012', '01-04-2012',\n",
              "       '01-05-2012', '01-06-2012', '01-07-2012', '01-08-2012',\n",
              "       '01-10-2012', '01-11-2012'], dtype=object)"
            ]
          },
          "metadata": {},
          "execution_count": 20
        }
      ],
      "source": [
        "df.Date.sort_values().unique()[:10]"
      ]
    },
    {
      "cell_type": "code",
      "execution_count": 21,
      "id": "ab9245f4",
      "metadata": {
        "id": "ab9245f4",
        "colab": {
          "base_uri": "https://localhost:8080/"
        },
        "outputId": "c04302a2-5594-496c-c395-15448dabd6f7"
      },
      "outputs": [
        {
          "output_type": "stream",
          "name": "stderr",
          "text": [
            "<ipython-input-21-9c1d344160b3>:3: UserWarning: Parsing dates in %d-%m-%Y format when dayfirst=False (the default) was specified. Pass `dayfirst=True` or specify a format to silence this warning.\n",
            "  df.index = pd.to_datetime(df.index)\n"
          ]
        }
      ],
      "source": [
        "# Set index to Date and Variable\n",
        "df = df.set_index('Date')\n",
        "df.index = pd.to_datetime(df.index)"
      ]
    },
    {
      "cell_type": "markdown",
      "id": "27a5ce5d",
      "metadata": {
        "id": "27a5ce5d"
      },
      "source": [
        "#  Dealing with  irregularly sampled datasets."
      ]
    },
    {
      "cell_type": "markdown",
      "id": "eeeb90cc",
      "metadata": {
        "id": "eeeb90cc"
      },
      "source": [
        "There are few techniques we can use to deal with irregulary samples datasets\n",
        "- Interpolate the time series data i.e. predict what those missing data by assuming that data samples behave monotonically\n",
        "  at each interval. this assumption doesn’t hold then it may lead to many artifacts or misleading results.\n",
        "- Resample the data, we may lose some data"
      ]
    },
    {
      "cell_type": "markdown",
      "id": "f7fce142",
      "metadata": {
        "id": "f7fce142"
      },
      "source": [
        "# Univariate Analysis"
      ]
    },
    {
      "cell_type": "code",
      "execution_count": 22,
      "id": "e44543d4",
      "metadata": {
        "colab": {
          "base_uri": "https://localhost:8080/",
          "height": 496
        },
        "id": "e44543d4",
        "outputId": "b69f270e-d535-4dd8-f633-9c64a31df391"
      },
      "outputs": [
        {
          "output_type": "execute_result",
          "data": {
            "text/plain": [
              "<Axes: xlabel='Warehouse', ylabel='count'>"
            ]
          },
          "metadata": {},
          "execution_count": 22
        },
        {
          "output_type": "display_data",
          "data": {
            "text/plain": [
              "<Figure size 640x480 with 1 Axes>"
            ],
            "image/png": "[encoded data removed]"
          },
          "metadata": {}
        }
      ],
      "source": [
        "# Find the aggregate demand among the warehouses\n",
        "sns.countplot(x = 'Warehouse', data = df)"
      ]
    },
    {
      "cell_type": "markdown",
      "id": "9f654af2",
      "metadata": {
        "id": "9f654af2"
      },
      "source": [
        "This bar plot compares the count the numbers of orders by warehouses. Warehouses Whse_J has significantly more orders than the other warehouses with nearly 750,000 orders followed by Whse_A, then Whse_S and Whse_C"
      ]
    },
    {
      "cell_type": "code",
      "execution_count": 23,
      "id": "d0dff449",
      "metadata": {
        "colab": {
          "base_uri": "https://localhost:8080/",
          "height": 595
        },
        "id": "d0dff449",
        "outputId": "526dde00-ef50-4083-f0e2-73dc926dea21"
      },
      "outputs": [
        {
          "output_type": "display_data",
          "data": {
            "text/plain": [
              "<Figure size 640x480 with 1 Axes>"
            ],
            "image/png": "[encoded data removed]"
          },
          "metadata": {}
        }
      ],
      "source": [
        "# Plot the 5 most popular category\n",
        "df.Category.value_counts().head(5).plot(kind = 'bar', color = color_pal[2])\n",
        "plt.xlabel('Category')\n",
        "plt.show()"
      ]
    },
    {
      "cell_type": "markdown",
      "id": "7097c647",
      "metadata": {
        "id": "7097c647"
      },
      "source": [
        "As shown on this plot, Category 019 ships by far the most orders in the product category"
      ]
    },
    {
      "cell_type": "code",
      "execution_count": 24,
      "id": "9e8fa294",
      "metadata": {
        "id": "9e8fa294",
        "colab": {
          "base_uri": "https://localhost:8080/",
          "height": 497
        },
        "outputId": "f1fddd5a-9aad-4f01-cb3d-c2a68fe5807d"
      },
      "outputs": [
        {
          "output_type": "display_data",
          "data": {
            "text/plain": [
              "<Figure size 1500x500 with 1 Axes>"
            ],
            "image/png": "[encoded data removed]"
          },
          "metadata": {}
        }
      ],
      "source": [
        "#This data have a lot of missing data before January 1st, 2012\n",
        "df_new = df.loc[df.index >= '01-01-2012']\n",
        "df_new.plot(kind = 'line',figsize=(15, 5),color = color_pal[0], title = 'Order Demand' )\n",
        "plt.show()"
      ]
    },
    {
      "cell_type": "code",
      "execution_count": 25,
      "id": "811b1c4b",
      "metadata": {
        "colab": {
          "base_uri": "https://localhost:8080/"
        },
        "id": "811b1c4b",
        "outputId": "c10b0c05-4ab7-4814-8614-eb485ee995ce"
      },
      "outputs": [
        {
          "output_type": "execute_result",
          "data": {
            "text/plain": [
              "26.29502752297726"
            ]
          },
          "metadata": {},
          "execution_count": 25
        }
      ],
      "source": [
        "# Find the skewness in the data\n",
        "df.Demand.skew()"
      ]
    },
    {
      "cell_type": "markdown",
      "id": "d95336d2",
      "metadata": {
        "id": "d95336d2"
      },
      "source": [
        "# Bivariate Analysis/ Multivariate Analysis"
      ]
    },
    {
      "cell_type": "code",
      "execution_count": 26,
      "id": "39a179b4",
      "metadata": {
        "colab": {
          "base_uri": "https://localhost:8080/",
          "height": 241
        },
        "id": "39a179b4",
        "outputId": "9783c895-88c7-4b7b-9453-f69771f4e898"
      },
      "outputs": [
        {
          "output_type": "execute_result",
          "data": {
            "text/plain": [
              "Warehouse\n",
              "Whse_A       183106\n",
              "Whse_C     63080503\n",
              "Whse_J    271150854\n",
              "Whse_S    157842239\n",
              "Name: Demand, dtype: int64"
            ],
            "text/html": [
              "<div>\n",
              "<style scoped>\n",
              "    .dataframe tbody tr th:only-of-type {\n",
              "        vertical-align: middle;\n",
              "    }\n",
              "\n",
              "    .dataframe tbody tr th {\n",
              "        vertical-align: top;\n",
              "    }\n",
              "\n",
              "    .dataframe thead th {\n",
              "        text-align: right;\n",
              "    }\n",
              "</style>\n",
              "<table border=\"1\" class=\"dataframe\">\n",
              "  <thead>\n",
              "    <tr style=\"text-align: right;\">\n",
              "      <th></th>\n",
              "      <th>Demand</th>\n",
              "    </tr>\n",
              "    <tr>\n",
              "      <th>Warehouse</th>\n",
              "      <th></th>\n",
              "    </tr>\n",
              "  </thead>\n",
              "  <tbody>\n",
              "    <tr>\n",
              "      <th>Whse_A</th>\n",
              "      <td>183106</td>\n",
              "    </tr>\n",
              "    <tr>\n",
              "      <th>Whse_C</th>\n",
              "      <td>63080503</td>\n",
              "    </tr>\n",
              "    <tr>\n",
              "      <th>Whse_J</th>\n",
              "      <td>271150854</td>\n",
              "    </tr>\n",
              "    <tr>\n",
              "      <th>Whse_S</th>\n",
              "      <td>157842239</td>\n",
              "    </tr>\n",
              "  </tbody>\n",
              "</table>\n",
              "</div><br><label><b>dtype:</b> int64</label>"
            ]
          },
          "metadata": {},
          "execution_count": 26
        }
      ],
      "source": [
        "# Total Demand by Warehouse\n",
        "warehouse_Demand = df.groupby('Warehouse')['Demand'].sum()\n",
        "warehouse_Demand"
      ]
    },
    {
      "cell_type": "code",
      "execution_count": 27,
      "id": "aab1bd97",
      "metadata": {
        "colab": {
          "base_uri": "https://localhost:8080/",
          "height": 489
        },
        "id": "aab1bd97",
        "outputId": "53f1dc95-6b44-4459-8f85-deb64407fd91"
      },
      "outputs": [
        {
          "output_type": "execute_result",
          "data": {
            "text/plain": [
              "<Axes: ylabel='Sum of the demand'>"
            ]
          },
          "metadata": {},
          "execution_count": 27
        },
        {
          "output_type": "display_data",
          "data": {
            "text/plain": [
              "<Figure size 640x480 with 1 Axes>"
            ],
            "image/png": "[encoded data removed]"
          },
          "metadata": {}
        }
      ],
      "source": [
        "warehouse_Demand.plot(kind = 'barh', ylabel = 'Sum of the demand' )"
      ]
    },
    {
      "cell_type": "code",
      "execution_count": 28,
      "id": "db1ff632",
      "metadata": {
        "colab": {
          "base_uri": "https://localhost:8080/",
          "height": 449
        },
        "id": "db1ff632",
        "outputId": "92ff1959-d497-4e8c-8bc3-47e0a8d49e4c"
      },
      "outputs": [
        {
          "output_type": "display_data",
          "data": {
            "text/plain": [
              "<Figure size 640x480 with 1 Axes>"
            ],
            "image/png": "[encoded data removed]"
          },
          "metadata": {}
        }
      ],
      "source": [
        "# Average Demand by Warehouse\n",
        "df.groupby('Warehouse')['Demand'].mean().plot(kind = 'barh')\n",
        "plt.show()"
      ]
    },
    {
      "cell_type": "markdown",
      "id": "dae49f11",
      "metadata": {
        "id": "dae49f11"
      },
      "source": [
        "Although Warehouse Whse_J has the most orders, Whse_C and Whse_A shipped the most product per order on average. This can\n",
        "helpful when we want to reduce the cost of operation and shipping for instance."
      ]
    },
    {
      "cell_type": "code",
      "execution_count": 29,
      "id": "3f76a430",
      "metadata": {
        "colab": {
          "base_uri": "https://localhost:8080/",
          "height": 238
        },
        "id": "3f76a430",
        "outputId": "fe537144-8021-4503-b65c-7f537e0acf77"
      },
      "outputs": [
        {
          "output_type": "execute_result",
          "data": {
            "text/plain": [
              "                    Code Warehouse      Category  Demand\n",
              "Date                                                    \n",
              "2012-07-27  Product_0993    Whse_J  Category_028     100\n",
              "2012-01-19  Product_0979    Whse_J  Category_028     500\n",
              "2012-02-03  Product_0979    Whse_J  Category_028     500\n",
              "2012-02-09  Product_0979    Whse_J  Category_028     500\n",
              "2012-03-02  Product_0979    Whse_J  Category_028     500"
            ],
            "text/html": [
              "\n",
              "  <div id=\"df-7ed3b3e5-4613-4813-b09f-ac69d4cb2a69\" class=\"colab-df-container\">\n",
              "    <div>\n",
              "<style scoped>\n",
              "    .dataframe tbody tr th:only-of-type {\n",
              "        vertical-align: middle;\n",
              "    }\n",
              "\n",
              "    .dataframe tbody tr th {\n",
              "        vertical-align: top;\n",
              "    }\n",
              "\n",
              "    .dataframe thead th {\n",
              "        text-align: right;\n",
              "    }\n",
              "</style>\n",
              "<table border=\"1\" class=\"dataframe\">\n",
              "  <thead>\n",
              "    <tr style=\"text-align: right;\">\n",
              "      <th></th>\n",
              "      <th>Code</th>\n",
              "      <th>Warehouse</th>\n",
              "      <th>Category</th>\n",
              "      <th>Demand</th>\n",
              "    </tr>\n",
              "    <tr>\n",
              "      <th>Date</th>\n",
              "      <th></th>\n",
              "      <th></th>\n",
              "      <th></th>\n",
              "      <th></th>\n",
              "    </tr>\n",
              "  </thead>\n",
              "  <tbody>\n",
              "    <tr>\n",
              "      <th>2012-07-27</th>\n",
              "      <td>Product_0993</td>\n",
              "      <td>Whse_J</td>\n",
              "      <td>Category_028</td>\n",
              "      <td>100</td>\n",
              "    </tr>\n",
              "    <tr>\n",
              "      <th>2012-01-19</th>\n",
              "      <td>Product_0979</td>\n",
              "      <td>Whse_J</td>\n",
              "      <td>Category_028</td>\n",
              "      <td>500</td>\n",
              "    </tr>\n",
              "    <tr>\n",
              "      <th>2012-02-03</th>\n",
              "      <td>Product_0979</td>\n",
              "      <td>Whse_J</td>\n",
              "      <td>Category_028</td>\n",
              "      <td>500</td>\n",
              "    </tr>\n",
              "    <tr>\n",
              "      <th>2012-02-09</th>\n",
              "      <td>Product_0979</td>\n",
              "      <td>Whse_J</td>\n",
              "      <td>Category_028</td>\n",
              "      <td>500</td>\n",
              "    </tr>\n",
              "    <tr>\n",
              "      <th>2012-03-02</th>\n",
              "      <td>Product_0979</td>\n",
              "      <td>Whse_J</td>\n",
              "      <td>Category_028</td>\n",
              "      <td>500</td>\n",
              "    </tr>\n",
              "  </tbody>\n",
              "</table>\n",
              "</div>\n",
              "    <div class=\"colab-df-buttons\">\n",
              "\n",
              "  <div class=\"colab-df-container\">\n",
              "    <button class=\"colab-df-convert\" onclick=\"convertToInteractive('df-7ed3b3e5-4613-4813-b09f-ac69d4cb2a69')\"\n",
              "            title=\"Convert this dataframe to an interactive table.\"\n",
              "            style=\"display:none;\">\n",
              "\n",
              "  <svg xmlns=\"http://www.w3.org/2000/svg\" height=\"24px\" viewBox=\"0 -960 960 960\">\n",
              "    <path d=\"M120-120v-720h720v720H120Zm60-500h600v-160H180v160Zm220 220h160v-160H400v160Zm0 220h160v-160H400v160ZM180-400h160v-160H180v160Zm440 0h160v-160H620v160ZM180-180h160v-160H180v160Zm440 0h160v-160H620v160Z\"/>\n",
              "  </svg>\n",
              "    </button>\n",
              "\n",
              "  <style>\n",
              "    .colab-df-container {\n",
              "      display:flex;\n",
              "      gap: 12px;\n",
              "    }\n",
              "\n",
              "    .colab-df-convert {\n",
              "      background-color: #E8F0FE;\n",
              "      border: none;\n",
              "      border-radius: 50%;\n",
              "      cursor: pointer;\n",
              "      display: none;\n",
              "      fill: #1967D2;\n",
              "      height: 32px;\n",
              "      padding: 0 0 0 0;\n",
              "      width: 32px;\n",
              "    }\n",
              "\n",
              "    .colab-df-convert:hover {\n",
              "      background-color: #E2EBFA;\n",
              "      box-shadow: 0px 1px 2px rgba(60, 64, 67, 0.3), 0px 1px 3px 1px rgba(60, 64, 67, 0.15);\n",
              "      fill: #174EA6;\n",
              "    }\n",
              "\n",
              "    .colab-df-buttons div {\n",
              "      margin-bottom: 4px;\n",
              "    }\n",
              "\n",
              "    [theme=dark] .colab-df-convert {\n",
              "      background-color: #3B4455;\n",
              "      fill: #D2E3FC;\n",
              "    }\n",
              "\n",
              "    [theme=dark] .colab-df-convert:hover {\n",
              "      background-color: #434B5C;\n",
              "      box-shadow: 0px 1px 3px 1px rgba(0, 0, 0, 0.15);\n",
              "      filter: drop-shadow(0px 1px 2px rgba(0, 0, 0, 0.3));\n",
              "      fill: #FFFFFF;\n",
              "    }\n",
              "  </style>\n",
              "\n",
              "    <script>\n",
              "      const buttonEl =\n",
              "        document.querySelector('#df-7ed3b3e5-4613-4813-b09f-ac69d4cb2a69 button.colab-df-convert');\n",
              "      buttonEl.style.display =\n",
              "        google.colab.kernel.accessAllowed ? 'block' : 'none';\n",
              "\n",
              "      async function convertToInteractive(key) {\n",
              "        const element = document.querySelector('#df-7ed3b3e5-4613-4813-b09f-ac69d4cb2a69');\n",
              "        const dataTable =\n",
              "          await google.colab.kernel.invokeFunction('convertToInteractive',\n",
              "                                                    [key], {});\n",
              "        if (!dataTable) return;\n",
              "\n",
              "        const docLinkHtml = 'Like what you see? Visit the ' +\n",
              "          '<a target=\"_blank\" href=https://colab.research.google.com/notebooks/data_table.ipynb>data table notebook</a>'\n",
              "          + ' to learn more about interactive tables.';\n",
              "        element.innerHTML = '';\n",
              "        dataTable['output_type'] = 'display_data';\n",
              "        await google.colab.output.renderOutput(dataTable, element);\n",
              "        const docLink = document.createElement('div');\n",
              "        docLink.innerHTML = docLinkHtml;\n",
              "        element.appendChild(docLink);\n",
              "      }\n",
              "    </script>\n",
              "  </div>\n",
              "\n",
              "\n",
              "<div id=\"df-d1ca1056-ac85-48d0-a314-2c6927d6db64\">\n",
              "  <button class=\"colab-df-quickchart\" onclick=\"quickchart('df-d1ca1056-ac85-48d0-a314-2c6927d6db64')\"\n",
              "            title=\"Suggest charts\"\n",
              "            style=\"display:none;\">\n",
              "\n",
              "<svg xmlns=\"http://www.w3.org/2000/svg\" height=\"24px\"viewBox=\"0 0 24 24\"\n",
              "     width=\"24px\">\n",
              "    <g>\n",
              "        <path d=\"M19 3H5c-1.1 0-2 .9-2 2v14c0 1.1.9 2 2 2h14c1.1 0 2-.9 2-2V5c0-1.1-.9-2-2-2zM9 17H7v-7h2v7zm4 0h-2V7h2v10zm4 0h-2v-4h2v4z\"/>\n",
              "    </g>\n",
              "</svg>\n",
              "  </button>\n",
              "\n",
              "<style>\n",
              "  .colab-df-quickchart {\n",
              "      --bg-color: #E8F0FE;\n",
              "      --fill-color: #1967D2;\n",
              "      --hover-bg-color: #E2EBFA;\n",
              "      --hover-fill-color: #174EA6;\n",
              "      --disabled-fill-color: #AAA;\n",
              "      --disabled-bg-color: #DDD;\n",
              "  }\n",
              "\n",
              "  [theme=dark] .colab-df-quickchart {\n",
              "      --bg-color: #3B4455;\n",
              "      --fill-color: #D2E3FC;\n",
              "      --hover-bg-color: #434B5C;\n",
              "      --hover-fill-color: #FFFFFF;\n",
              "      --disabled-bg-color: #3B4455;\n",
              "      --disabled-fill-color: #666;\n",
              "  }\n",
              "\n",
              "  .colab-df-quickchart {\n",
              "    background-color: var(--bg-color);\n",
              "    border: none;\n",
              "    border-radius: 50%;\n",
              "    cursor: pointer;\n",
              "    display: none;\n",
              "    fill: var(--fill-color);\n",
              "    height: 32px;\n",
              "    padding: 0;\n",
              "    width: 32px;\n",
              "  }\n",
              "\n",
              "  .colab-df-quickchart:hover {\n",
              "    background-color: var(--hover-bg-color);\n",
              "    box-shadow: 0 1px 2px rgba(60, 64, 67, 0.3), 0 1px 3px 1px rgba(60, 64, 67, 0.15);\n",
              "    fill: var(--button-hover-fill-color);\n",
              "  }\n",
              "\n",
              "  .colab-df-quickchart-complete:disabled,\n",
              "  .colab-df-quickchart-complete:disabled:hover {\n",
              "    background-color: var(--disabled-bg-color);\n",
              "    fill: var(--disabled-fill-color);\n",
              "    box-shadow: none;\n",
              "  }\n",
              "\n",
              "  .colab-df-spinner {\n",
              "    border: 2px solid var(--fill-color);\n",
              "    border-color: transparent;\n",
              "    border-bottom-color: var(--fill-color);\n",
              "    animation:\n",
              "      spin 1s steps(1) infinite;\n",
              "  }\n",
              "\n",
              "  @keyframes spin {\n",
              "    0% {\n",
              "      border-color: transparent;\n",
              "      border-bottom-color: var(--fill-color);\n",
              "      border-left-color: var(--fill-color);\n",
              "    }\n",
              "    20% {\n",
              "      border-color: transparent;\n",
              "      border-left-color: var(--fill-color);\n",
              "      border-top-color: var(--fill-color);\n",
              "    }\n",
              "    30% {\n",
              "      border-color: transparent;\n",
              "      border-left-color: var(--fill-color);\n",
              "      border-top-color: var(--fill-color);\n",
              "      border-right-color: var(--fill-color);\n",
              "    }\n",
              "    40% {\n",
              "      border-color: transparent;\n",
              "      border-right-color: var(--fill-color);\n",
              "      border-top-color: var(--fill-color);\n",
              "    }\n",
              "    60% {\n",
              "      border-color: transparent;\n",
              "      border-right-color: var(--fill-color);\n",
              "    }\n",
              "    80% {\n",
              "      border-color: transparent;\n",
              "      border-right-color: var(--fill-color);\n",
              "      border-bottom-color: var(--fill-color);\n",
              "    }\n",
              "    90% {\n",
              "      border-color: transparent;\n",
              "      border-bottom-color: var(--fill-color);\n",
              "    }\n",
              "  }\n",
              "</style>\n",
              "\n",
              "  <script>\n",
              "    async function quickchart(key) {\n",
              "      const quickchartButtonEl =\n",
              "        document.querySelector('#' + key + ' button');\n",
              "      quickchartButtonEl.disabled = true;  // To prevent multiple clicks.\n",
              "      quickchartButtonEl.classList.add('colab-df-spinner');\n",
              "      try {\n",
              "        const charts = await google.colab.kernel.invokeFunction(\n",
              "            'suggestCharts', [key], {});\n",
              "      } catch (error) {\n",
              "        console.error('Error during call to suggestCharts:', error);\n",
              "      }\n",
              "      quickchartButtonEl.classList.remove('colab-df-spinner');\n",
              "      quickchartButtonEl.classList.add('colab-df-quickchart-complete');\n",
              "    }\n",
              "    (() => {\n",
              "      let quickchartButtonEl =\n",
              "        document.querySelector('#df-d1ca1056-ac85-48d0-a314-2c6927d6db64 button');\n",
              "      quickchartButtonEl.style.display =\n",
              "        google.colab.kernel.accessAllowed ? 'block' : 'none';\n",
              "    })();\n",
              "  </script>\n",
              "</div>\n",
              "\n",
              "    </div>\n",
              "  </div>\n"
            ],
            "application/vnd.google.colaboratory.intrinsic+json": {
              "type": "dataframe",
              "variable_name": "df",
              "summary": "{\n  \"name\": \"df\",\n  \"rows\": 42213,\n  \"fields\": [\n    {\n      \"column\": \"Date\",\n      \"properties\": {\n        \"dtype\": \"date\",\n        \"min\": \"2011-06-24 00:00:00\",\n        \"max\": \"2013-01-07 00:00:00\",\n        \"num_unique_values\": 340,\n        \"samples\": [\n          \"2012-05-13 00:00:00\",\n          \"2012-02-17 00:00:00\",\n          \"2012-11-15 00:00:00\"\n        ],\n        \"semantic_type\": \"\",\n        \"description\": \"\"\n      }\n    },\n    {\n      \"column\": \"Code\",\n      \"properties\": {\n        \"dtype\": \"category\",\n        \"num_unique_values\": 1216,\n        \"samples\": [\n          \"Product_0151\",\n          \"Product_0063\",\n          \"Product_1263\"\n        ],\n        \"semantic_type\": \"\",\n        \"description\": \"\"\n      }\n    },\n    {\n      \"column\": \"Warehouse\",\n      \"properties\": {\n        \"dtype\": \"category\",\n        \"num_unique_values\": 4,\n        \"samples\": [\n          \"Whse_S\",\n          \"Whse_A\",\n          \"Whse_J\"\n        ],\n        \"semantic_type\": \"\",\n        \"description\": \"\"\n      }\n    },\n    {\n      \"column\": \"Category\",\n      \"properties\": {\n        \"dtype\": \"category\",\n        \"num_unique_values\": 26,\n        \"samples\": [\n          \"Category_033\",\n          \"Category_009\",\n          \"Category_028\"\n        ],\n        \"semantic_type\": \"\",\n        \"description\": \"\"\n      }\n    },\n    {\n      \"column\": \"Demand\",\n      \"properties\": {\n        \"dtype\": \"number\",\n        \"std\": 51768,\n        \"min\": 0,\n        \"max\": 4000000,\n        \"num_unique_values\": 786,\n        \"samples\": [\n          11300,\n          1500,\n          89\n        ],\n        \"semantic_type\": \"\",\n        \"description\": \"\"\n      }\n    }\n  ]\n}"
            }
          },
          "metadata": {},
          "execution_count": 29
        }
      ],
      "source": [
        "df.head()"
      ]
    },
    {
      "cell_type": "markdown",
      "id": "e92809be",
      "metadata": {
        "id": "e92809be"
      },
      "source": [
        "# Feature Engineering"
      ]
    },
    {
      "cell_type": "code",
      "execution_count": 30,
      "id": "c0a95ad5",
      "metadata": {
        "colab": {
          "base_uri": "https://localhost:8080/",
          "height": 366
        },
        "id": "c0a95ad5",
        "outputId": "6969be36-3acf-45fb-b00e-28d1a9e1cfd5"
      },
      "outputs": [
        {
          "output_type": "execute_result",
          "data": {
            "text/plain": [
              "Code               object\n",
              "Warehouse          object\n",
              "Category           object\n",
              "Demand              int64\n",
              "day_of_the_week     int32\n",
              "Quarter             int32\n",
              "Month               int32\n",
              "Year                int32\n",
              "Week                int64\n",
              "dtype: object"
            ],
            "text/html": [
              "<div>\n",
              "<style scoped>\n",
              "    .dataframe tbody tr th:only-of-type {\n",
              "        vertical-align: middle;\n",
              "    }\n",
              "\n",
              "    .dataframe tbody tr th {\n",
              "        vertical-align: top;\n",
              "    }\n",
              "\n",
              "    .dataframe thead th {\n",
              "        text-align: right;\n",
              "    }\n",
              "</style>\n",
              "<table border=\"1\" class=\"dataframe\">\n",
              "  <thead>\n",
              "    <tr style=\"text-align: right;\">\n",
              "      <th></th>\n",
              "      <th>0</th>\n",
              "    </tr>\n",
              "  </thead>\n",
              "  <tbody>\n",
              "    <tr>\n",
              "      <th>Code</th>\n",
              "      <td>object</td>\n",
              "    </tr>\n",
              "    <tr>\n",
              "      <th>Warehouse</th>\n",
              "      <td>object</td>\n",
              "    </tr>\n",
              "    <tr>\n",
              "      <th>Category</th>\n",
              "      <td>object</td>\n",
              "    </tr>\n",
              "    <tr>\n",
              "      <th>Demand</th>\n",
              "      <td>int64</td>\n",
              "    </tr>\n",
              "    <tr>\n",
              "      <th>day_of_the_week</th>\n",
              "      <td>int32</td>\n",
              "    </tr>\n",
              "    <tr>\n",
              "      <th>Quarter</th>\n",
              "      <td>int32</td>\n",
              "    </tr>\n",
              "    <tr>\n",
              "      <th>Month</th>\n",
              "      <td>int32</td>\n",
              "    </tr>\n",
              "    <tr>\n",
              "      <th>Year</th>\n",
              "      <td>int32</td>\n",
              "    </tr>\n",
              "    <tr>\n",
              "      <th>Week</th>\n",
              "      <td>int64</td>\n",
              "    </tr>\n",
              "  </tbody>\n",
              "</table>\n",
              "</div><br><label><b>dtype:</b> object</label>"
            ]
          },
          "metadata": {},
          "execution_count": 30
        }
      ],
      "source": [
        "\" Function that create time series features using the index columns\"\n",
        "def create_feature(dataframe):\n",
        "    dataframe = dataframe.copy()\n",
        "    dataframe['day_of_the_week'] = dataframe.index.dayofweek\n",
        "    dataframe['Quarter'] = dataframe.index.quarter\n",
        "    dataframe['Month'] = dataframe.index.month\n",
        "    dataframe['Year'] = dataframe.index.year\n",
        "    dataframe['Week'] = dataframe.index.isocalendar().week.astype(int)\n",
        "    return dataframe\n",
        "\n",
        "df = create_feature(df_new)\n",
        "df.dtypes"
      ]
    },
    {
      "cell_type": "code",
      "execution_count": 31,
      "id": "20f46daf",
      "metadata": {
        "id": "20f46daf"
      },
      "outputs": [],
      "source": [
        "# features, Target variable\n",
        "Features = ['day_of_the_week', 'Quarter','Month', 'Year', 'Week']\n",
        "target = ['Demand']"
      ]
    },
    {
      "cell_type": "markdown",
      "id": "aba40d05",
      "metadata": {
        "id": "aba40d05"
      },
      "source": [
        "# Create our model using XGboost"
      ]
    },
    {
      "cell_type": "code",
      "execution_count": 32,
      "id": "032364c2",
      "metadata": {
        "colab": {
          "base_uri": "https://localhost:8080/",
          "height": 497
        },
        "id": "032364c2",
        "outputId": "fe62e2a1-56fa-42cb-b36c-7fbb63316756"
      },
      "outputs": [
        {
          "output_type": "display_data",
          "data": {
            "text/plain": [
              "<Figure size 1500x500 with 1 Axes>"
            ],
            "image/png": "[encoded data removed]"
          },
          "metadata": {}
        }
      ],
      "source": [
        "# Split the data in Train/ Test set\n",
        "df_train = df.loc[df.index <= '2016-01-01'].copy()\n",
        "df_test = df.loc[df.index > '2016-01-01'].copy()\n",
        "\n",
        "#plot train/test\n",
        "fig, ax = plt.subplots(figsize = (15,5))\n",
        "df_train.Demand.plot(ax = ax, label = 'train set',legend = 'train set', title = 'Train/Test set')\n",
        "df_test.Demand.plot(ax = ax, legend = 'train set', label = 'test set')\n",
        "plt.show()"
      ]
    },
    {
      "cell_type": "code",
      "execution_count": 33,
      "id": "283535c5",
      "metadata": {
        "id": "283535c5"
      },
      "outputs": [],
      "source": [
        "#Split the data into training set and testing set\n",
        "X_train = df_train[Features]\n",
        "X_test = df_test[Features]\n",
        "\n",
        "y_train = df_train[target]\n",
        "y_test = df_test[target]"
      ]
    },
    {
      "cell_type": "code",
      "execution_count": 34,
      "id": "ebb240bd",
      "metadata": {
        "colab": {
          "base_uri": "https://localhost:8080/"
        },
        "id": "ebb240bd",
        "outputId": "e476e346-2a93-4839-9fb8-8b312370fde8"
      },
      "outputs": [
        {
          "output_type": "stream",
          "name": "stdout",
          "text": [
            "Requirement already satisfied: xgboost in /usr/local/lib/python3.11/dist-packages (2.1.3)\n",
            "Requirement already satisfied: numpy in /usr/local/lib/python3.11/dist-packages (from xgboost) (1.26.4)\n",
            "Requirement already satisfied: nvidia-nccl-cu12 in /usr/local/lib/python3.11/dist-packages (from xgboost) (2.21.5)\n",
            "Requirement already satisfied: scipy in /usr/local/lib/python3.11/dist-packages (from xgboost) (1.13.1)\n"
          ]
        }
      ],
      "source": [
        "! pip install xgboost"
      ]
    },
    {
      "cell_type": "code",
      "execution_count": 35,
      "id": "f501afb4",
      "metadata": {
        "colab": {
          "base_uri": "https://localhost:8080/"
        },
        "id": "f501afb4",
        "outputId": "03e54caa-fb76-46ae-917f-a2bb971cbfd2"
      },
      "outputs": [
        {
          "output_type": "stream",
          "name": "stdout",
          "text": [
            "[0]\tvalidation_0-rmse:51285.86973\tvalidation_1-rmse:0.00000\n"
          ]
        },
        {
          "output_type": "stream",
          "name": "stderr",
          "text": [
            "/usr/local/lib/python3.11/dist-packages/xgboost/core.py:158: UserWarning: [14:54:50] WARNING: /workspace/src/common/error_msg.cc:52: Empty dataset at worker: 0\n",
            "  warnings.warn(smsg, UserWarning)\n"
          ]
        },
        {
          "output_type": "stream",
          "name": "stdout",
          "text": [
            "[50]\tvalidation_0-rmse:51097.80065\tvalidation_1-rmse:0.00000\n"
          ]
        }
      ],
      "source": [
        "from xgboost import XGBRegressor\n",
        "model = XGBRegressor(n_estimators = 1000,\n",
        "                    early_stopping_rounds = 50,\n",
        "                    learning_rate = 0.01).fit(X_train, y_train,\n",
        "                                                   eval_set = [(X_train,y_train), (X_test,y_test)],\n",
        "                                                   verbose = 50)"
      ]
    },
    {
      "cell_type": "markdown",
      "id": "10ffa93c",
      "metadata": {
        "id": "10ffa93c"
      },
      "source": [
        "- Model stopped after 315 trees because our validation rmse start to go up (overfitting)"
      ]
    },
    {
      "cell_type": "code",
      "execution_count": 36,
      "id": "81e6dbc1",
      "metadata": {
        "colab": {
          "base_uri": "https://localhost:8080/",
          "height": 303
        },
        "id": "81e6dbc1",
        "outputId": "146d147c-56b7-47c1-bee3-76d3ffc14c98"
      },
      "outputs": [
        {
          "output_type": "display_data",
          "data": {
            "text/plain": [
              "<Figure size 500x300 with 1 Axes>"
            ],
            "image/png": "[encoded data removed]"
          },
          "metadata": {}
        }
      ],
      "source": [
        "# Features Importance\n",
        "fea_Imp = pd.DataFrame(model.feature_importances_, index = Features, columns = ['feature_importance'])\n",
        "#plot the features importance\n",
        "fea_Imp.feature_importance.sort_values().plot(kind = 'barh', figsize =(5,3))\n",
        "plt.show()"
      ]
    },
    {
      "cell_type": "markdown",
      "id": "7dd6ae8a",
      "metadata": {
        "id": "7dd6ae8a"
      },
      "source": [
        "# Forecast on Test"
      ]
    },
    {
      "cell_type": "code",
      "execution_count": 37,
      "id": "15113688",
      "metadata": {
        "id": "15113688"
      },
      "outputs": [],
      "source": [
        "df_test['prediction'] = model.predict(X_test)"
      ]
    },
    {
      "cell_type": "code",
      "execution_count": 38,
      "id": "9fe26267",
      "metadata": {
        "colab": {
          "base_uri": "https://localhost:8080/",
          "height": 456
        },
        "id": "9fe26267",
        "outputId": "32be73a3-0a6b-4ad2-96b2-cf20a9553670"
      },
      "outputs": [
        {
          "output_type": "display_data",
          "data": {
            "text/plain": [
              "<Figure size 1500x500 with 1 Axes>"
            ],
            "image/png": "[encoded data removed]"
          },
          "metadata": {}
        }
      ],
      "source": [
        "fig, ax = plt.subplots( figsize = (15,5))\n",
        "df_test.prediction.plot(ax = ax, color = 'g', style = '.', legend = 'Prediction')\n",
        "df_test.Demand.plot(ax = ax, color = 'r', legend = 'Testing')\n",
        "plt.show()"
      ]
    },
    {
      "cell_type": "markdown",
      "id": "fd6183d9",
      "metadata": {
        "id": "fd6183d9"
      },
      "source": [
        "We barely can see the prediction, XGboost did really bad at capturing the trend and seasonlity in the data. Let's use\n",
        "a more robust machine learning technique"
      ]
    },
    {
      "cell_type": "markdown",
      "id": "88e18695",
      "metadata": {
        "id": "88e18695"
      },
      "source": [
        "# Time Series Analysis"
      ]
    },
    {
      "cell_type": "markdown",
      "id": "9e14e678",
      "metadata": {
        "id": "9e14e678"
      },
      "source": [
        "Time series analysis is a specific way of analyzing a sequence of data points collected over an interval of time.\n",
        "In time series analysis, analysts record data points at consistent intervals over a set period of time rather than\n",
        "just recording the data points intermittently or randomly."
      ]
    },
    {
      "cell_type": "markdown",
      "id": "100fc595",
      "metadata": {
        "id": "100fc595"
      },
      "source": [
        "# Visualise Features/ Target Relationship"
      ]
    },
    {
      "cell_type": "code",
      "execution_count": 39,
      "id": "6889be4b",
      "metadata": {
        "colab": {
          "base_uri": "https://localhost:8080/",
          "height": 466
        },
        "id": "6889be4b",
        "outputId": "91b7ed2a-85e2-4a14-cfb4-95cb731ee830"
      },
      "outputs": [
        {
          "output_type": "display_data",
          "data": {
            "text/plain": [
              "<Figure size 2000x500 with 1 Axes>"
            ],
            "image/png": "[encoded data removed]"
          },
          "metadata": {}
        }
      ],
      "source": [
        "fig, ax = plt.subplots(figsize=(20, 5))\n",
        "sns.boxplot(data=df, x='Week', y='Demand')\n",
        "ax.set_title('Order Demand per Week')\n",
        "plt.show()"
      ]
    },
    {
      "cell_type": "markdown",
      "id": "49c535fb",
      "metadata": {
        "id": "49c535fb"
      },
      "source": [
        "In this data, there are lots of same data values. So, I will collect them together as weekly."
      ]
    },
    {
      "cell_type": "code",
      "execution_count": null,
      "id": "aRZdb0FiXB88",
      "metadata": {
        "id": "aRZdb0FiXB88"
      },
      "outputs": [],
      "source": [
        "!pip install pandas\n",
        "\n",
        "import pandas as pd\n",
        "\n",
        "# Sample DataFrame (replace this with your actual 'df')\n",
        "data = {'Date': pd.date_range(start='2023-01-01', periods=100, freq='D'),\n",
        "        'Demand': range(100),\n",
        "        'Product': ['A', 'B'] * 50}\n",
        "df = pd.DataFrame(data)\n",
        "df.set_index('Date', inplace=True)\n",
        "\n",
        "# Resample data as Weekly, handling non-numeric columns\n",
        "df_week = df.resample('W').agg({'Demand': 'mean', 'Product': 'first'})\n",
        "\n",
        "print(df_week)"
      ]
    },
    {
      "cell_type": "code",
      "execution_count": null,
      "id": "f7fd4b18",
      "metadata": {
        "id": "f7fd4b18"
      },
      "outputs": [],
      "source": [
        "df_week['Demand'].plot(figsize = (15,4), title = 'Weekly Order demand')\n",
        "plt.show()"
      ]
    },
    {
      "cell_type": "markdown",
      "id": "7605eaca",
      "metadata": {
        "id": "7605eaca"
      },
      "source": [
        "- These data show a seasonal pattern. The pattern repeats every 12 months. The demand increase in December(probably due to the holiday season) and decrease probably in January.\n",
        "- I can see a pattern in the weekly order demand, Let's explore the monthly pattern by sampling the data monthly"
      ]
    },
    {
      "cell_type": "code",
      "execution_count": null,
      "id": "8fadef5f",
      "metadata": {
        "id": "8fadef5f"
      },
      "outputs": [],
      "source": [
        "!pip install pandas matplotlib\n",
        "\n",
        "import pandas as pd\n",
        "import matplotlib.pyplot as plt\n",
        "\n",
        "# Sample DataFrame (replace this with your actual 'df')\n",
        "data = {'Date': pd.date_range(start='2023-01-01', periods=100, freq='D'),\n",
        "        'Demand': range(100),\n",
        "        'Product': ['A', 'B'] * 50}\n",
        "df = pd.DataFrame(data)\n",
        "df.set_index('Date', inplace=True)\n",
        "\n",
        "# Resample data as Monthly, handling non-numeric columns\n",
        "df_month = df.resample('MS').agg({'Demand': 'mean', 'Product': 'first'})\n",
        "\n",
        "# Plot the 'Demand' column\n",
        "# Assuming 'color_pal' is defined somewhere earlier in your code\n",
        "df_month.Demand.plot(figsize = (25,5), title = 'Monthly Order Demand', color = color_pal[2])\n",
        "plt.ylabel('Demand')\n",
        "plt.show()"
      ]
    },
    {
      "cell_type": "markdown",
      "id": "7d76f3ca",
      "metadata": {
        "id": "7d76f3ca"
      },
      "source": [
        "This plot shows a clear upward trend from the last quarter of 2013 to the beginning of 2017..."
      ]
    },
    {
      "cell_type": "markdown",
      "id": "5181907b",
      "metadata": {
        "id": "5181907b"
      },
      "source": [
        "# Decomposition  to check the seasonality, trends and residuals."
      ]
    },
    {
      "cell_type": "markdown",
      "id": "caff1da2",
      "metadata": {
        "id": "caff1da2"
      },
      "source": [
        "# Visually, the time series is non-stationary but I will perform the Augmented Dickey- Adfuller test (ADF) to make sure of that"
      ]
    },
    {
      "cell_type": "code",
      "execution_count": null,
      "id": "Pnija_eXYRhI",
      "metadata": {
        "id": "Pnija_eXYRhI"
      },
      "outputs": [],
      "source": [
        "!pip install pandas matplotlib statsmodels\n",
        "\n",
        "import pandas as pd\n",
        "import matplotlib.pyplot as plt\n",
        "from statsmodels.tsa.seasonal import seasonal_decompose\n",
        "from pylab import rcParams\n",
        "\n",
        "# Sample DataFrame with enough data points for seasonal decomposition\n",
        "data = {'Date': pd.date_range(start='2023-01-01', periods=300, freq='D'),\n",
        "        'Demand': range(300),\n",
        "        'Product': ['A', 'B'] * 150}\n",
        "df = pd.DataFrame(data)\n",
        "df.set_index('Date', inplace=True)\n",
        "\n",
        "# Perform seasonal decomposition on DAILY data\n",
        "rcParams['figure.figsize'] = 25, 10\n",
        "decomposition = seasonal_decompose(df.Demand, model='additive', period=30)  # Period set to 30 for daily seasonality\n",
        "\n",
        "# Plot the decomposed components (still at daily frequency)\n",
        "fig = decomposition.plot()\n",
        "plt.show()\n",
        "\n",
        "# If you need monthly results, resample the decomposed components:\n",
        "decomposition_month = {\n",
        "    'trend': decomposition.trend.resample('MS').mean(),\n",
        "    'seasonal': decomposition.seasonal.resample('MS').mean(),\n",
        "    'resid': decomposition.resid.resample('MS').mean()\n",
        "}\n",
        "\n",
        "# Plot the monthly decomposed components\n",
        "fig, axes = plt.subplots(4, 1, figsize=(25, 15))\n",
        "axes[0].plot(df_month.Demand)\n",
        "axes[0].set_title('Monthly Demand')\n",
        "axes[1].plot(decomposition_month['trend'])\n",
        "axes[1].set_title('Monthly Trend')\n",
        "axes[2].plot(decomposition_month['seasonal'])\n",
        "axes[2].set_title('Monthly Seasonal')\n",
        "axes[3].plot(decomposition_month['resid'])\n",
        "axes[3].set_title('Monthly Residuals')\n",
        "plt.tight_layout()\n",
        "plt.show()"
      ]
    },
    {
      "cell_type": "code",
      "execution_count": null,
      "id": "2485c042",
      "metadata": {
        "id": "2485c042"
      },
      "outputs": [],
      "source": [
        "# import stats libraries\n",
        "from statsmodels.tsa.stattools import adfuller\n",
        "adfuller(df_month['Demand'])"
      ]
    },
    {
      "cell_type": "markdown",
      "id": "a7978777",
      "metadata": {
        "id": "a7978777"
      },
      "source": [
        "- The p-value is obtained is greater than significance level of 0.05\n",
        "- Clearly, there is no reason to reject the null hypothesis. So, the time series is in fact non-stationary."
      ]
    },
    {
      "cell_type": "markdown",
      "id": "18ff76bf",
      "metadata": {
        "id": "18ff76bf"
      },
      "source": [
        "# Make Series Stationnary"
      ]
    },
    {
      "cell_type": "code",
      "execution_count": null,
      "id": "dfe3b07b",
      "metadata": {
        "id": "dfe3b07b"
      },
      "outputs": [],
      "source": [
        "# Take First Difference to Remove Trend\n",
        "df_diff = df_month.Demand.diff()[1:]\n",
        "df_diff.plot(figsize=(12,6), color = color_pal[1])\n",
        "plt.axhline(0, linestyle='--', color='k', alpha=0.3)"
      ]
    },
    {
      "cell_type": "markdown",
      "id": "60552680",
      "metadata": {
        "id": "60552680"
      },
      "source": [
        "The p-value is less than 0.05 so data series is stationnary"
      ]
    },
    {
      "cell_type": "markdown",
      "id": "b80553ac",
      "metadata": {
        "id": "b80553ac"
      },
      "source": [
        "# Build ARIMA Model"
      ]
    },
    {
      "cell_type": "markdown",
      "id": "65a82b09",
      "metadata": {
        "id": "65a82b09"
      },
      "source": [
        "- ARIMA models are generally denoted as ARIMA (p,d,q) where:\n",
        "    - p is the order of autoregressive model (Forecasts future behavior based on past behavior data)\n",
        "    - d is the degree of differencing(Integrating or eleminate trend in the data)\n",
        "    - and q is the order of moving-average model(Past errors to predict the future)\n",
        "- ARIMA models use differencing to convert a non-stationary time series into a stationary one,\n",
        "    and then predict future values from historical data.\n",
        "- Ways to determine p,q,d:\n",
        "    - Using ACF And PCAF plots to find p,q and d is how many times we differenciate the data\n",
        "    - Auto_Arima function tries different orders and determine the best model based on AIC criteria(lowest AIC)\n",
        "    - For Loop"
      ]
    },
    {
      "cell_type": "markdown",
      "id": "2ccc6938",
      "metadata": {
        "id": "2ccc6938"
      },
      "source": [
        "### 1) ACF and PACF plots and Interpretation"
      ]
    },
    {
      "cell_type": "code",
      "execution_count": null,
      "id": "3e2d0f0a",
      "metadata": {
        "id": "3e2d0f0a"
      },
      "outputs": [],
      "source": [
        "# Import libraries\n",
        "from statsmodels.graphics.tsaplots import plot_acf, plot_pacf"
      ]
    },
    {
      "cell_type": "code",
      "execution_count": null,
      "id": "892535a7",
      "metadata": {
        "id": "892535a7"
      },
      "outputs": [],
      "source": [
        "fig, (ax1, ax2) = plt.subplots(2, 1, figsize=(10, 7))\n",
        "\n",
        "# Calculate the maximum number of lags allowed\n",
        "max_lags = len(df_diff) // 2\n",
        "\n",
        "plot_acf(df_diff, lags=max_lags, ax=ax1)\n",
        "plot_pacf(df_diff, lags=max_lags, method='ywm', ax=ax2)  # Use max_lags here\n",
        "plt.show()"
      ]
    },
    {
      "cell_type": "markdown",
      "id": "feefc93c",
      "metadata": {
        "id": "feefc93c"
      },
      "source": [
        "Based on the AutoCorrelation chart:\n",
        "- Lag 1 is strong(cross the Confidence Interval) so the order of q  is 1\n",
        "- Based on the Partial AutoCorrelation chart, Lag 1 and 2 are strong(cross the Confidence Interval) so the order of p is 2\n",
        "- I differentiate only once to make the series stationnary so d is 1"
      ]
    },
    {
      "cell_type": "markdown",
      "id": "db833660",
      "metadata": {
        "id": "db833660"
      },
      "source": [
        "### 2) Train / Test split"
      ]
    },
    {
      "cell_type": "code",
      "execution_count": null,
      "id": "Pbo-iP7rZHHU",
      "metadata": {
        "id": "Pbo-iP7rZHHU"
      },
      "outputs": [],
      "source": [
        "from datetime import datetime\n",
        "from datetime import timedelta\n",
        "import matplotlib.pyplot as plt\n",
        "\n",
        "# Ensure these dates exist within your df_diff index\n",
        "train_end = datetime(2016,1,1)\n",
        "test_end = datetime(2017,1,1)\n",
        "\n",
        "df_train = df_diff[:train_end]\n",
        "df_test = df_diff[train_end:test_end]\n",
        "\n",
        "# Print the shapes to verify if they contain data\n",
        "print(\"Shape of df_train:\", df_train.shape)\n",
        "print(\"Shape of df_test:\", df_test.shape)\n",
        "\n",
        "# Proceed with plotting if both DataFrames have data\n",
        "if not df_train.empty and not df_test.empty:\n",
        "    fig, ax = plt.subplots(figsize=(15, 5))\n",
        "    df_train.plot(ax=ax, label='Training Set', title='Data Train/Test Split')\n",
        "    df_test.plot(ax=ax, label='Test Set')\n",
        "    ax.axvline('01-01-2016', color='black', ls='--')\n",
        "    ax.legend(['Training Set', 'Test Set','Split Point'])\n",
        "    plt.show()\n",
        "else:\n",
        "    print(\"Error: Either df_train or df_test is empty. Check your date ranges.\")"
      ]
    },
    {
      "cell_type": "markdown",
      "id": "eda1dde8",
      "metadata": {
        "id": "eda1dde8"
      },
      "source": [
        "### 3) Import Libraries and fit the model"
      ]
    },
    {
      "cell_type": "code",
      "execution_count": null,
      "id": "XuQk99ulZcxj",
      "metadata": {
        "id": "XuQk99ulZcxj"
      },
      "outputs": [],
      "source": [
        "from datetime import datetime\n",
        "from datetime import timedelta\n",
        "import matplotlib.pyplot as plt\n",
        "from statsmodels.tsa.arima.model import ARIMA\n",
        "\n",
        "# Ensure these dates exist within your df_diff index and are in the correct order\n",
        "train_end = datetime(2016,1,1)\n",
        "test_end = datetime(2017,1,1)\n",
        "\n",
        "df_train = df_diff[:train_end]\n",
        "df_test = df_diff[train_end:test_end]\n",
        "\n",
        "# Print the shapes to verify if they contain data and the head of the DataFrames\n",
        "print(\"Shape of df_train:\", df_train.shape)\n",
        "print(\"Head of df_train:\\n\", df_train.head()) # Check the content of df_train\n",
        "print(\"Shape of df_test:\", df_test.shape)\n",
        "print(\"Head of df_test:\\n\", df_test.head()) # Check the content of df_test\n",
        "\n",
        "# Proceed with plotting and model fitting if both DataFrames have data\n",
        "if not df_train.empty and not df_test.empty:\n",
        "    fig, ax = plt.subplots(figsize=(15, 5))\n",
        "    df_train.plot(ax=ax, label='Training Set', title='Data Train/Test Split')\n",
        "    df_test.plot(ax=ax, label='Test Set')\n",
        "    ax.axvline('01-01-2016', color='black', ls='--')\n",
        "    ax.legend(['Training Set', 'Test Set','Split Point'])\n",
        "    plt.show()\n",
        "\n",
        "    # Fit the model\n",
        "    model_arima = ARIMA(df_train, order = (2,1,1)).fit()\n",
        "    print(model_arima.summary()) # Print the model summary to check if it fitted correctly\n",
        "else:\n",
        "    print(\"Error: Either df_train or df_test is empty. Check your date ranges and the content of df_diff.\")"
      ]
    },
    {
      "cell_type": "code",
      "execution_count": null,
      "id": "kUVS3TDTajJm",
      "metadata": {
        "id": "kUVS3TDTajJm"
      },
      "outputs": [],
      "source": [
        "from datetime import datetime\n",
        "from datetime import timedelta\n",
        "import matplotlib.pyplot as plt\n",
        "from statsmodels.tsa.arima.model import ARIMA\n",
        "\n",
        "# Ensure these dates exist within your df_diff index and are in the correct order\n",
        "train_end = datetime(2016,1,1)\n",
        "test_end = datetime(2017,1,1)\n",
        "\n",
        "df_train = df_diff[:train_end]\n",
        "df_test = df_diff[train_end:test_end]\n",
        "\n",
        "# Print the shapes to verify if they contain data and the head of the DataFrames\n",
        "print(\"Shape of df_train:\", df_train.shape)\n",
        "print(\"Head of df_train:\\n\", df_train.head()) # Check the content of df_train\n",
        "print(\"Shape of df_test:\", df_test.shape)\n",
        "print(\"Head of df_test:\\n\", df_test.head()) # Check the content of df_test\n",
        "\n",
        "# Proceed with plotting and model fitting if both DataFrames have data\n",
        "if not df_train.empty and not df_test.empty:\n",
        "    fig, ax = plt.subplots(figsize=(15, 5))\n",
        "    df_train.plot(ax=ax, label='Training Set', title='Data Train/Test Split')\n",
        "    df_test.plot(ax=ax, label='Test Set')\n",
        "    ax.axvline('01-01-2016', color='black', ls='--')\n",
        "    ax.legend(['Training Set', 'Test Set','Split Point'])\n",
        "    plt.show()\n",
        "\n",
        "    # Fit the model and print summary\n",
        "    model_arima = ARIMA(df_train, order = (2,1,1)).fit()\n",
        "    print(model_arima.summary())\n",
        "\n",
        "else:\n",
        "    print(\"Error: Either df_train or df_test is empty. Check your date ranges and the content of df_diff.\")"
      ]
    },
    {
      "cell_type": "markdown",
      "id": "57c69cb0",
      "metadata": {
        "id": "57c69cb0"
      },
      "source": [
        "    Based on the summary:\n",
        "    - The values of the coefficients for AR lag1, lag2 and MA lag1 are negatives which indicates that the time series\n",
        "    current period is negatively correlated with the time series at those lags\n",
        "    -The p values for AR lag 1 and MA lag 1, sigma2 are significants because it is below 0.05"
      ]
    },
    {
      "cell_type": "code",
      "execution_count": null,
      "id": "wxZJiOGrayUS",
      "metadata": {
        "id": "wxZJiOGrayUS"
      },
      "outputs": [],
      "source": [
        "from datetime import datetime\n",
        "from datetime import timedelta\n",
        "import matplotlib.pyplot as plt\n",
        "from statsmodels.tsa.arima.model import ARIMA\n",
        "\n",
        "# Ensure these dates exist within your df_diff index and are in the correct order\n",
        "# It is highly recommended to print df_diff and verify the dates\n",
        "print(df_diff)\n",
        "train_end = datetime(2016,1,1)\n",
        "test_end = datetime(2017,1,1)\n",
        "\n",
        "df_train = df_diff[:train_end]\n",
        "df_test = df_diff[train_end:test_end]\n",
        "\n",
        "# Print the shapes to verify if they contain data and the head of the DataFrames\n",
        "print(\"Shape of df_train:\", df_train.shape)\n",
        "print(\"Head of df_train:\\n\", df_train.head()) # Check the content of df_train\n",
        "print(\"Shape of df_test:\", df_test.shape)\n",
        "print(\"Head of df_test:\\n\", df_test.head()) # Check the content of df_test\n",
        "\n",
        "# Proceed with plotting and model fitting if both DataFrames have data\n",
        "if not df_train.empty and not df_test.empty:\n",
        "    fig, ax = plt.subplots(figsize=(15, 5))\n",
        "    df_train.plot(ax=ax, label='Training Set', title='Data Train/Test Split')\n",
        "    df_test.plot(ax=ax, label='Test Set')\n",
        "    ax.axvline('01-01-2016', color='black', ls='--')\n",
        "    ax.legend(['Training Set', 'Test Set','Split Point'])\n",
        "    plt.show()\n",
        "\n",
        "    # Fit the model and print summary\n",
        "    model_arima = ARIMA(df_train, order = (2,1,1)).fit()\n",
        "    print(model_arima.summary())\n",
        "\n",
        "    # get the predictions start and end dates\n",
        "    # Handle the case where df_test might be empty to prevent the error\n",
        "    if not df_test.empty:\n",
        "        pred_start = df_test.index[0]\n",
        "        pred_end= df_test.index[-1]\n",
        "\n",
        "        # Make predictions\n",
        "        prediction = model_arima.predict(start = pred_start, end = pred_end)\n",
        "\n",
        "        # Get the residuals\n",
        "        residuals = df_test - prediction\n",
        "    else:\n",
        "        print(\"Cannot make predictions: df_test is empty.\")\n",
        "\n",
        "else:\n",
        "    print(\"Error: Either df_train or df_test is empty. Check your date ranges and the content of df_diff.\")"
      ]
    },
    {
      "cell_type": "code",
      "execution_count": null,
      "id": "57844ac6",
      "metadata": {
        "id": "57844ac6"
      },
      "outputs": [],
      "source": [
        "import pandas as pd\n",
        "import matplotlib.pyplot as plt\n",
        "from statsmodels.tsa.arima.model import ARIMA\n",
        "\n",
        "# Assuming your dataframe is already loaded and preprocessed as 'df_month'\n",
        "\n",
        "# Fit the ARIMA model to your data\n",
        "model_arima = ARIMA(df_month['Demand'], order=(1, 1, 1))  # Fit based on your actual data\n",
        "model_fit = model_arima.fit()\n",
        "\n",
        "# Calculate the residuals\n",
        "residuals = model_fit.resid\n",
        "\n",
        "# Plot the residuals\n",
        "residuals.plot(kind='line', title='Residuals from ARIMA Model')\n",
        "plt.axhline(0, color='g', linestyle='--')\n",
        "plt.ylabel('Error')\n",
        "plt.show()\n"
      ]
    },
    {
      "cell_type": "code",
      "execution_count": null,
      "id": "2052dbb6",
      "metadata": {
        "id": "2052dbb6"
      },
      "outputs": [],
      "source": [
        "# Get the Root Mean Square Error\n",
        "rmse = np.sqrt(np.mean(residuals**2))"
      ]
    },
    {
      "cell_type": "code",
      "execution_count": null,
      "id": "975cc455",
      "metadata": {
        "id": "975cc455"
      },
      "outputs": [],
      "source": [
        "rmse"
      ]
    }
  ],
  "metadata": {
    "colab": {
      "provenance": []
    },
    "kernelspec": {
      "display_name": "Python 3",
      "language": "python",
      "name": "python3"
    },
    "language_info": {
      "codemirror_mode": {
        "name": "ipython",
        "version": 3
      },
      "file_extension": ".py",
      "mimetype": "text/x-python",
      "name": "python",
      "nbconvert_exporter": "python",
      "pygments_lexer": "ipython3",
      "version": "3.7.12"
    },
    "papermill": {
      "default_parameters": {},
      "duration": 165.798673,
      "end_time": "2023-03-22T17:13:47.757697",
      "environment_variables": {},
      "exception": null,
      "input_path": "__notebook__.ipynb",
      "output_path": "__notebook__.ipynb",
      "parameters": {},
      "start_time": "2023-03-22T17:11:01.959024",
      "version": "2.4.0"
    }
  },
  "nbformat": 4,
  "nbformat_minor": 5
}